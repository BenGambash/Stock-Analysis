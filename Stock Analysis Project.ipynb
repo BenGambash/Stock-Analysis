{
 "cells": [
  {
   "cell_type": "markdown",
   "metadata": {},
   "source": [
    "# Part1"
   ]
  },
  {
   "cell_type": "markdown",
   "metadata": {},
   "source": [
    "# imports"
   ]
  },
  {
   "cell_type": "code",
   "execution_count": null,
   "metadata": {},
   "outputs": [],
   "source": [
    "import numpy as np\n",
    "import pandas as pd\n",
    "%matplotlib inline\n",
    "import matplotlib.pyplot as plt\n",
    "import seaborn as sns\n",
    "from IPython.display import display\n",
    "sns.set_style('darkgrid')"
   ]
  },
  {
   "cell_type": "code",
   "execution_count": null,
   "metadata": {},
   "outputs": [],
   "source": [
    "from pandas_datareader import DataReader\n",
    "import pandas_datareader as dr\n",
    "from datetime import datetime\n",
    "from pylab import plot,show\n",
    "from numpy import vstack,array\n",
    "from scipy.cluster.vq import kmeans,vq\n",
    "from math import sqrt"
   ]
  },
  {
   "cell_type": "markdown",
   "metadata": {},
   "source": [
    "# Load_The_database"
   ]
  },
  {
   "cell_type": "code",
   "execution_count": null,
   "metadata": {},
   "outputs": [],
   "source": [
    "import yfinance as yf\n",
    "start_date=datetime(2020,10,30)\n",
    "##check about the datetime\n",
    "end_date=datetime(2021,6,1)\n",
    "data = yf.download(\"^GSPC\",start=start_date,end=end_date,group_by='Date')"
   ]
  },
  {
   "cell_type": "markdown",
   "metadata": {},
   "source": [
    "# Part One - Exploring the S&P 500"
   ]
  },
  {
   "cell_type": "code",
   "execution_count": null,
   "metadata": {},
   "outputs": [],
   "source": [
    "data"
   ]
  },
  {
   "cell_type": "code",
   "execution_count": null,
   "metadata": {},
   "outputs": [],
   "source": [
    "print('==1==')\n",
    "print('Q: מדוע קיבלנו רק 252 שורות אם בשנה יש 365 ימים?')\n",
    "print('A: מפני שלא סוחרים כל יום, ויש ימים כמו שבת וראשון וחגים שבהם הבורסה בארהב סגורה.')\n",
    "print('==2==')\n",
    "print('Q: מה ההבדל בין Close לבין Adj Close')\n",
    "print('A: adj close אלה שערי הסגירה המתאימים את הפעולות האחרונות ולאחר פערי מחירים ותנועות אחרונות ואפשר לקרוא להם שערי הסגירה המתואמים')\n",
    "print('==3==')\n",
    "print('Q:האם אתם רואים מגמה/הבדל כלשהו בין תחילת 2019 לסוף 2019?')\n",
    "print('A: ניתן לראות מגמת עלייה של המדד בשנת 2019, נציג בקוד הבא:')\n"
   ]
  },
  {
   "cell_type": "code",
   "execution_count": null,
   "metadata": {},
   "outputs": [],
   "source": [
    "plt.plot(data.index,data['Adj Close'])\n",
    "plt.xlabel('Date')\n",
    "plt.ylabel('Price')\n",
    "plt.title('LineChart of SPY - Adj Close')\n",
    "plt.show()\n",
    "data['Adj Close'].describe()"
   ]
  },
  {
   "cell_type": "code",
   "execution_count": null,
   "metadata": {},
   "outputs": [],
   "source": [
    "#מגמת עליה של המדד בשנת 2019 "
   ]
  },
  {
   "cell_type": "code",
   "execution_count": null,
   "metadata": {
    "scrolled": true
   },
   "outputs": [],
   "source": [
    "plt.plot(data.index,data['Adj Close'],label = \"Adj close\")\n",
    "plt.plot(data.index,data['Open'],label = \"Open\")\n",
    "plt.xlabel('Date')\n",
    "plt.ylabel('Price')\n",
    "plt.title('LineChart of SPY Adj close and Open')\n",
    "plt.legend()\n",
    "plt.show()"
   ]
  },
  {
   "cell_type": "code",
   "execution_count": null,
   "metadata": {},
   "outputs": [],
   "source": [
    "plt.plot(data.index,data['Volume'])\n",
    "plt.title('The Volume By Date')\n",
    "plt.show()"
   ]
  },
  {
   "cell_type": "code",
   "execution_count": null,
   "metadata": {},
   "outputs": [],
   "source": [
    "Mavg1 = 10\n",
    "Mavg2 = 20\n",
    "Mavg3 = 50\n",
    "data['Mavg10'] = data['Adj Close'].rolling(window=Mavg1).mean()\n",
    "data['Mavg20'] = data['Adj Close'].rolling(window=Mavg2).mean()\n",
    "data['Mavg50'] = data['Adj Close'].rolling(window=Mavg3).mean()\n",
    "data.head(50)"
   ]
  },
  {
   "cell_type": "code",
   "execution_count": null,
   "metadata": {},
   "outputs": [],
   "source": [
    "print('==1==')\n",
    "print('Q:מדוע ישנם ערכי NaN בטבלה החדשה?')\n",
    "print('A: מפני שחישוב ממוצע נע מסתמך על ימים אחורה, כך שבשביל להציג תוצאה יש צורך באותם הנתונים - לכן התנון הראשון יהיה ביום ה 11 כי רק אז יש מספיק נתונים כדי לחשב ממוצע.')\n",
    "print('==2==')\n",
    "print('Q: מדוע הערכים בטבלה שונים בעמודות שהוספתם?')\n",
    "print('A: מפני שכל ממוצע מחושב על מספר שונה של ימים')"
   ]
  },
  {
   "cell_type": "code",
   "execution_count": null,
   "metadata": {},
   "outputs": [],
   "source": [
    "plt.figure(figsize=(10,10))\n",
    "plt.plot(data.index,data['Adj Close'],c='black', label = 'Adj Close')\n",
    "plt.plot(data.index,data['Mavg10'], label = 'Mavg10')\n",
    "plt.plot(data.index,data['Mavg20'], label = 'Mavg20')\n",
    "plt.plot(data.index,data['Mavg50'], label = 'Mavg50')\n",
    "plt.legend()\n",
    "plt.show()"
   ]
  },
  {
   "cell_type": "code",
   "execution_count": null,
   "metadata": {},
   "outputs": [],
   "source": [
    "print('==1==')\n",
    "print('Q:מה ניתן להגיד מהגרף שיצא לכם?')\n",
    "print('A: ככל שהממוצע הנע מחושב על מספר גדול יותר של ימים הוא מרוחק יותר מגרף המחירים והצורה שלו כללית יותר.')"
   ]
  },
  {
   "cell_type": "code",
   "execution_count": null,
   "metadata": {},
   "outputs": [],
   "source": [
    "data['PerForDay'] = data['Adj Close'].pct_change()\n",
    "data.head()"
   ]
  },
  {
   "cell_type": "code",
   "execution_count": null,
   "metadata": {
    "scrolled": true
   },
   "outputs": [],
   "source": [
    "plt.figure(figsize=(15,5))\n",
    "plt.plot(data.index,data['PerForDay'],linestyle='dashed',marker = 'o',markersize = 6,markerfacecolor='red')\n",
    "plt.title('PerForDay')\n",
    "plt.show()"
   ]
  },
  {
   "cell_type": "code",
   "execution_count": null,
   "metadata": {},
   "outputs": [],
   "source": [
    "sns.distplot(data['PerForDay'].dropna(),bins=50,color='red')\n",
    "plt.title('The Column PerForDay')\n",
    "plt.show()"
   ]
  },
  {
   "cell_type": "code",
   "execution_count": null,
   "metadata": {},
   "outputs": [],
   "source": [
    "print('==1==')\n",
    "print('Q:מה ניתן להגיד על התנהגות המדד?')\n",
    "print('A: המדד לרוב לא זז בקיצוניות בטווח היומי, התזוזות הן בין 0 ל 1% שינוי ברוב הפעמים.')\n",
    "print('==2==')\n",
    "print('Q:האם הגרף מתפלג נורמלית?')\n",
    "print('A: נראה שכן')"
   ]
  },
  {
   "cell_type": "code",
   "execution_count": null,
   "metadata": {},
   "outputs": [],
   "source": [
    "data = data.dropna()"
   ]
  },
  {
   "cell_type": "markdown",
   "metadata": {},
   "source": [
    "# split the data"
   ]
  },
  {
   "cell_type": "code",
   "execution_count": null,
   "metadata": {},
   "outputs": [],
   "source": [
    "xtrain = data.drop('PerForDay',axis=1).loc['2020-10-30':'2021-03-31']\n",
    "ytrain = data['PerForDay'].loc['2020-10-30':'2021-03-31']\n",
    "xtest = data.drop('PerForDay',axis=1).loc['2021-04-01':]\n",
    "ytest = data['PerForDay'].loc['2021-04-01':]"
   ]
  },
  {
   "cell_type": "code",
   "execution_count": null,
   "metadata": {},
   "outputs": [],
   "source": [
    "xtrain.shape,ytrain.shape,xtest.shape,ytest.shape"
   ]
  },
  {
   "cell_type": "code",
   "execution_count": null,
   "metadata": {},
   "outputs": [],
   "source": [
    "xtrain"
   ]
  },
  {
   "cell_type": "code",
   "execution_count": null,
   "metadata": {},
   "outputs": [],
   "source": [
    "ytrain"
   ]
  },
  {
   "cell_type": "code",
   "execution_count": null,
   "metadata": {},
   "outputs": [],
   "source": [
    "xtest"
   ]
  },
  {
   "cell_type": "code",
   "execution_count": null,
   "metadata": {},
   "outputs": [],
   "source": [
    "ytest"
   ]
  },
  {
   "cell_type": "markdown",
   "metadata": {},
   "source": [
    "# DecisionTreeRegressor"
   ]
  },
  {
   "cell_type": "code",
   "execution_count": null,
   "metadata": {},
   "outputs": [],
   "source": [
    "#DecisionTreeRegressor or DecisionTreeRegresson"
   ]
  },
  {
   "cell_type": "code",
   "execution_count": null,
   "metadata": {},
   "outputs": [],
   "source": [
    "from sklearn.tree import DecisionTreeRegressor\n",
    "from sklearn.metrics import r2_score\n",
    "regressor = DecisionTreeRegressor(random_state=0)\n",
    "regressor.fit(xtrain,ytrain)\n",
    "pred = regressor.predict(xtest)\n",
    "score = r2_score(ytest,pred)\n",
    "print(\"r^2 score is \",score)"
   ]
  },
  {
   "cell_type": "code",
   "execution_count": null,
   "metadata": {},
   "outputs": [],
   "source": [
    "##R2 מתאר את הקשר בין הפרדיקציה למציאות. היינו רוצים לראות R2 חיובי וקרוב יותר ל1. לדעתנו המודל לא ניבא טוב את המציאות ולכן המודל לא טוב ולא היינו נשארים עם התוצאה הזאת."
   ]
  },
  {
   "cell_type": "code",
   "execution_count": null,
   "metadata": {},
   "outputs": [],
   "source": [
    "print('==1==')\n",
    "print('Q:מה משמעות הערך R2?')\n",
    "print('A: R2 מתאר את הקשר בין הפרדיקציה למציאות')\n",
    "print('==2==')\n",
    "print('Q:האם הערך שיצא לכם הוא טוב או לא?')\n",
    "print('A: לדעתנו לא טוב')\n",
    "print('==3==')\n",
    "print('Q:האם המודל טוב או לא?')\n",
    "print('A: לדעתנו לא טוב')\n",
    "print('==4==')\n",
    "print('Q:הייתם נשארים עם תוצאות המודל הנ\"ל או בוחרים לנסות מודל אחר?')\n",
    "print('A: היינו רוצים לראות R2 חיובי וקרוב לאחד, ולכן היינו בוחרים לנסות מודל אחר')"
   ]
  },
  {
   "cell_type": "markdown",
   "metadata": {},
   "source": [
    "# RandomForestRegressor"
   ]
  },
  {
   "cell_type": "code",
   "execution_count": null,
   "metadata": {},
   "outputs": [],
   "source": [
    "from sklearn.ensemble import RandomForestRegressor\n",
    "randreg = RandomForestRegressor(oob_score=True,random_state=0)\n",
    "randreg.fit(xtrain,ytrain)\n",
    "score_forest = r2_score(ytest,randreg.predict(xtest))\n",
    "randreg.oob_score_"
   ]
  },
  {
   "cell_type": "code",
   "execution_count": null,
   "metadata": {},
   "outputs": [],
   "source": [
    "score_forest"
   ]
  },
  {
   "cell_type": "code",
   "execution_count": 31,
   "metadata": {},
   "outputs": [],
   "source": [
    "##הגענו לאחוז מוסבר יותר גבוה אך עדיין לא מספק"
   ]
  },
  {
   "cell_type": "markdown",
   "metadata": {},
   "source": [
    "# Part2"
   ]
  },
  {
   "cell_type": "code",
   "execution_count": 32,
   "metadata": {},
   "outputs": [],
   "source": [
    "#sp500_url = 'https://en.wikipedia.org/wiki/List_of_S%26P_500_companies'\n",
    "#data_table = pd.read_html(sp500_url)[0]['Symbol']\n",
    "#tickers = data_table.to_list()\n",
    "#prices_list = []"
   ]
  },
  {
   "cell_type": "code",
   "execution_count": 33,
   "metadata": {},
   "outputs": [],
   "source": [
    "#for ticker in tickers:\n",
    " #   try:\n",
    "  #      prices = dr.DataReader(ticker,'yahoo',start_date,end_date)['Adj Close']\n",
    "   #     prices = pd.DataFrame(prices)\n",
    "    #    prices.columns = [ticker]\n",
    "     #   prices_list.append(prices)\n",
    "    #except:\n",
    "     #   pass\n",
    "    #prices_df = pd.concat(prices_list,axis=1)\n",
    "    \n",
    "#prices_df.sort_index(inplace=True)"
   ]
  },
  {
   "cell_type": "code",
   "execution_count": 34,
   "metadata": {},
   "outputs": [
    {
     "data": {
      "text/plain": [
       "'\\nעבור כל סימבול מתוך הרשימה\\nתנסה\\nלהוציא רשימה של שערי סגירה מתואמים בין תאריך ההתחלה לתאריך הסיום\\nלהכניס לדאטאפריים\\nלהוסיף כותרת לפי שם המניה\\n'"
      ]
     },
     "execution_count": 34,
     "metadata": {},
     "output_type": "execute_result"
    }
   ],
   "source": [
    "'''\n",
    "עבור כל סימבול מתוך הרשימה\n",
    "תנסה\n",
    "להוציא רשימה של שערי סגירה מתואמים בין תאריך ההתחלה לתאריך הסיום\n",
    "להכניס לדאטאפריים\n",
    "להוסיף כותרת לפי שם המניה\n",
    "'''"
   ]
  },
  {
   "cell_type": "code",
   "execution_count": 35,
   "metadata": {},
   "outputs": [
    {
     "data": {
      "text/html": [
       "<div>\n",
       "<style scoped>\n",
       "    .dataframe tbody tr th:only-of-type {\n",
       "        vertical-align: middle;\n",
       "    }\n",
       "\n",
       "    .dataframe tbody tr th {\n",
       "        vertical-align: top;\n",
       "    }\n",
       "\n",
       "    .dataframe thead th {\n",
       "        text-align: right;\n",
       "    }\n",
       "</style>\n",
       "<table border=\"1\" class=\"dataframe\">\n",
       "  <thead>\n",
       "    <tr style=\"text-align: right;\">\n",
       "      <th></th>\n",
       "      <th>ABT</th>\n",
       "      <th>ABBV</th>\n",
       "      <th>ABMD</th>\n",
       "      <th>ACN</th>\n",
       "      <th>ATVI</th>\n",
       "      <th>ADBE</th>\n",
       "      <th>AMD</th>\n",
       "      <th>AAP</th>\n",
       "      <th>AES</th>\n",
       "      <th>AFL</th>\n",
       "      <th>...</th>\n",
       "      <th>WYNN</th>\n",
       "      <th>XEL</th>\n",
       "      <th>XRX</th>\n",
       "      <th>XLNX</th>\n",
       "      <th>XYL</th>\n",
       "      <th>YUM</th>\n",
       "      <th>ZBRA</th>\n",
       "      <th>ZBH</th>\n",
       "      <th>ZION</th>\n",
       "      <th>ZTS</th>\n",
       "    </tr>\n",
       "    <tr>\n",
       "      <th>Date</th>\n",
       "      <th></th>\n",
       "      <th></th>\n",
       "      <th></th>\n",
       "      <th></th>\n",
       "      <th></th>\n",
       "      <th></th>\n",
       "      <th></th>\n",
       "      <th></th>\n",
       "      <th></th>\n",
       "      <th></th>\n",
       "      <th></th>\n",
       "      <th></th>\n",
       "      <th></th>\n",
       "      <th></th>\n",
       "      <th></th>\n",
       "      <th></th>\n",
       "      <th></th>\n",
       "      <th></th>\n",
       "      <th></th>\n",
       "      <th></th>\n",
       "      <th></th>\n",
       "    </tr>\n",
       "  </thead>\n",
       "  <tbody>\n",
       "    <tr>\n",
       "      <th>02/01/2019</th>\n",
       "      <td>67.791504</td>\n",
       "      <td>80.913643</td>\n",
       "      <td>309.959992</td>\n",
       "      <td>137.682632</td>\n",
       "      <td>46.350380</td>\n",
       "      <td>224.570007</td>\n",
       "      <td>18.830000</td>\n",
       "      <td>156.955002</td>\n",
       "      <td>13.495584</td>\n",
       "      <td>43.989311</td>\n",
       "      <td>...</td>\n",
       "      <td>100.250526</td>\n",
       "      <td>46.331181</td>\n",
       "      <td>19.286905</td>\n",
       "      <td>84.908691</td>\n",
       "      <td>65.213387</td>\n",
       "      <td>89.070412</td>\n",
       "      <td>156.240005</td>\n",
       "      <td>101.280602</td>\n",
       "      <td>39.697353</td>\n",
       "      <td>83.688446</td>\n",
       "    </tr>\n",
       "    <tr>\n",
       "      <th>03/01/2019</th>\n",
       "      <td>64.592140</td>\n",
       "      <td>78.247650</td>\n",
       "      <td>302.290008</td>\n",
       "      <td>132.981903</td>\n",
       "      <td>44.704514</td>\n",
       "      <td>215.699997</td>\n",
       "      <td>17.049999</td>\n",
       "      <td>161.854889</td>\n",
       "      <td>13.486069</td>\n",
       "      <td>42.877983</td>\n",
       "      <td>...</td>\n",
       "      <td>99.280663</td>\n",
       "      <td>46.148624</td>\n",
       "      <td>18.865334</td>\n",
       "      <td>81.711800</td>\n",
       "      <td>62.977840</td>\n",
       "      <td>86.829994</td>\n",
       "      <td>146.880005</td>\n",
       "      <td>99.448669</td>\n",
       "      <td>39.477768</td>\n",
       "      <td>80.795799</td>\n",
       "    </tr>\n",
       "    <tr>\n",
       "      <th>04/01/2019</th>\n",
       "      <td>66.435669</td>\n",
       "      <td>80.768547</td>\n",
       "      <td>313.440002</td>\n",
       "      <td>138.152725</td>\n",
       "      <td>46.488358</td>\n",
       "      <td>226.190002</td>\n",
       "      <td>19.000000</td>\n",
       "      <td>157.839539</td>\n",
       "      <td>13.933384</td>\n",
       "      <td>43.409485</td>\n",
       "      <td>...</td>\n",
       "      <td>103.284927</td>\n",
       "      <td>46.600212</td>\n",
       "      <td>19.593504</td>\n",
       "      <td>85.495285</td>\n",
       "      <td>65.634995</td>\n",
       "      <td>89.089882</td>\n",
       "      <td>152.970001</td>\n",
       "      <td>102.845154</td>\n",
       "      <td>40.690266</td>\n",
       "      <td>83.965828</td>\n",
       "    </tr>\n",
       "    <tr>\n",
       "      <th>07/01/2019</th>\n",
       "      <td>67.430595</td>\n",
       "      <td>81.947380</td>\n",
       "      <td>314.799988</td>\n",
       "      <td>138.632599</td>\n",
       "      <td>47.799141</td>\n",
       "      <td>229.259994</td>\n",
       "      <td>20.570000</td>\n",
       "      <td>160.155304</td>\n",
       "      <td>14.000006</td>\n",
       "      <td>43.641418</td>\n",
       "      <td>...</td>\n",
       "      <td>105.119019</td>\n",
       "      <td>46.398445</td>\n",
       "      <td>20.015074</td>\n",
       "      <td>87.753654</td>\n",
       "      <td>64.664299</td>\n",
       "      <td>88.992477</td>\n",
       "      <td>155.289993</td>\n",
       "      <td>102.884758</td>\n",
       "      <td>40.852573</td>\n",
       "      <td>84.471039</td>\n",
       "    </tr>\n",
       "    <tr>\n",
       "      <th>08/01/2019</th>\n",
       "      <td>66.621002</td>\n",
       "      <td>82.328247</td>\n",
       "      <td>318.420013</td>\n",
       "      <td>142.138565</td>\n",
       "      <td>49.247898</td>\n",
       "      <td>232.679993</td>\n",
       "      <td>20.750000</td>\n",
       "      <td>159.042175</td>\n",
       "      <td>14.323593</td>\n",
       "      <td>43.776711</td>\n",
       "      <td>...</td>\n",
       "      <td>108.412689</td>\n",
       "      <td>46.936501</td>\n",
       "      <td>20.676178</td>\n",
       "      <td>86.081886</td>\n",
       "      <td>65.272209</td>\n",
       "      <td>88.817146</td>\n",
       "      <td>156.330002</td>\n",
       "      <td>100.577530</td>\n",
       "      <td>41.224911</td>\n",
       "      <td>85.729149</td>\n",
       "    </tr>\n",
       "  </tbody>\n",
       "</table>\n",
       "<p>5 rows × 500 columns</p>\n",
       "</div>"
      ],
      "text/plain": [
       "                  ABT       ABBV        ABMD         ACN       ATVI  \\\n",
       "Date                                                                  \n",
       "02/01/2019  67.791504  80.913643  309.959992  137.682632  46.350380   \n",
       "03/01/2019  64.592140  78.247650  302.290008  132.981903  44.704514   \n",
       "04/01/2019  66.435669  80.768547  313.440002  138.152725  46.488358   \n",
       "07/01/2019  67.430595  81.947380  314.799988  138.632599  47.799141   \n",
       "08/01/2019  66.621002  82.328247  318.420013  142.138565  49.247898   \n",
       "\n",
       "                  ADBE        AMD         AAP        AES        AFL  ...  \\\n",
       "Date                                                                 ...   \n",
       "02/01/2019  224.570007  18.830000  156.955002  13.495584  43.989311  ...   \n",
       "03/01/2019  215.699997  17.049999  161.854889  13.486069  42.877983  ...   \n",
       "04/01/2019  226.190002  19.000000  157.839539  13.933384  43.409485  ...   \n",
       "07/01/2019  229.259994  20.570000  160.155304  14.000006  43.641418  ...   \n",
       "08/01/2019  232.679993  20.750000  159.042175  14.323593  43.776711  ...   \n",
       "\n",
       "                  WYNN        XEL        XRX       XLNX        XYL        YUM  \\\n",
       "Date                                                                            \n",
       "02/01/2019  100.250526  46.331181  19.286905  84.908691  65.213387  89.070412   \n",
       "03/01/2019   99.280663  46.148624  18.865334  81.711800  62.977840  86.829994   \n",
       "04/01/2019  103.284927  46.600212  19.593504  85.495285  65.634995  89.089882   \n",
       "07/01/2019  105.119019  46.398445  20.015074  87.753654  64.664299  88.992477   \n",
       "08/01/2019  108.412689  46.936501  20.676178  86.081886  65.272209  88.817146   \n",
       "\n",
       "                  ZBRA         ZBH       ZION        ZTS  \n",
       "Date                                                      \n",
       "02/01/2019  156.240005  101.280602  39.697353  83.688446  \n",
       "03/01/2019  146.880005   99.448669  39.477768  80.795799  \n",
       "04/01/2019  152.970001  102.845154  40.690266  83.965828  \n",
       "07/01/2019  155.289993  102.884758  40.852573  84.471039  \n",
       "08/01/2019  156.330002  100.577530  41.224911  85.729149  \n",
       "\n",
       "[5 rows x 500 columns]"
      ]
     },
     "execution_count": 35,
     "metadata": {},
     "output_type": "execute_result"
    }
   ],
   "source": [
    "prices_df = pd.read_csv('prices_df_2019.csv')\n",
    "prices_df = prices_df.set_index('Date')\n",
    "prices_df.head()"
   ]
  },
  {
   "cell_type": "code",
   "execution_count": 36,
   "metadata": {},
   "outputs": [],
   "source": [
    "Returns = pd.DataFrame(prices_df.pct_change().mean()*252,columns=['Returns'])\n",
    "Returns['Volatility'] = prices_df.pct_change().std()*sqrt (252)\n",
    "data = np.asarray([np.asarray(Returns['Returns']),np.asarray(Returns['Volatility'])]).T"
   ]
  },
  {
   "cell_type": "code",
   "execution_count": 37,
   "metadata": {
    "scrolled": true
   },
   "outputs": [
    {
     "data": {
      "text/html": [
       "<div>\n",
       "<style scoped>\n",
       "    .dataframe tbody tr th:only-of-type {\n",
       "        vertical-align: middle;\n",
       "    }\n",
       "\n",
       "    .dataframe tbody tr th {\n",
       "        vertical-align: top;\n",
       "    }\n",
       "\n",
       "    .dataframe thead th {\n",
       "        text-align: right;\n",
       "    }\n",
       "</style>\n",
       "<table border=\"1\" class=\"dataframe\">\n",
       "  <thead>\n",
       "    <tr style=\"text-align: right;\">\n",
       "      <th></th>\n",
       "      <th>Returns</th>\n",
       "      <th>Volatility</th>\n",
       "    </tr>\n",
       "  </thead>\n",
       "  <tbody>\n",
       "    <tr>\n",
       "      <th>ABT</th>\n",
       "      <td>0.259491</td>\n",
       "      <td>0.194902</td>\n",
       "    </tr>\n",
       "    <tr>\n",
       "      <th>ABBV</th>\n",
       "      <td>0.100436</td>\n",
       "      <td>0.271236</td>\n",
       "    </tr>\n",
       "    <tr>\n",
       "      <th>ABMD</th>\n",
       "      <td>-0.462331</td>\n",
       "      <td>0.503473</td>\n",
       "    </tr>\n",
       "    <tr>\n",
       "      <th>ACN</th>\n",
       "      <td>0.432713</td>\n",
       "      <td>0.168881</td>\n",
       "    </tr>\n",
       "    <tr>\n",
       "      <th>ATVI</th>\n",
       "      <td>0.306473</td>\n",
       "      <td>0.354688</td>\n",
       "    </tr>\n",
       "  </tbody>\n",
       "</table>\n",
       "</div>"
      ],
      "text/plain": [
       "       Returns  Volatility\n",
       "ABT   0.259491    0.194902\n",
       "ABBV  0.100436    0.271236\n",
       "ABMD -0.462331    0.503473\n",
       "ACN   0.432713    0.168881\n",
       "ATVI  0.306473    0.354688"
      ]
     },
     "execution_count": 37,
     "metadata": {},
     "output_type": "execute_result"
    }
   ],
   "source": [
    "Returns.head()"
   ]
  },
  {
   "cell_type": "code",
   "execution_count": 38,
   "metadata": {},
   "outputs": [
    {
     "name": "stdout",
     "output_type": "stream",
     "text": [
      "==1==\n",
      "Q:מה המשמעות של הפקודה T בסוף הפקודה?\n",
      "A: היפוך של המערך במשתנה data\n"
     ]
    }
   ],
   "source": [
    "print('==1==')\n",
    "print('Q:מה המשמעות של הפקודה T בסוף הפקודה?')\n",
    "print('A: היפוך של המערך במשתנה data')"
   ]
  },
  {
   "cell_type": "code",
   "execution_count": 39,
   "metadata": {},
   "outputs": [],
   "source": [
    "from sklearn.cluster import KMeans\n",
    "distortions = []\n",
    "NumOfClusterer = []\n",
    "for i in range(2,21):\n",
    "    NumOfClusterer.append(i)\n",
    "    clusterer = KMeans(n_clusters=i,random_state=204440705)\n",
    "    distortions.append(clusterer.fit(data).inertia_)"
   ]
  },
  {
   "cell_type": "code",
   "execution_count": 40,
   "metadata": {},
   "outputs": [
    {
     "data": {
      "text/plain": [
       "[2, 3, 4, 5, 6, 7, 8, 9, 10, 11, 12, 13, 14, 15, 16, 17, 18, 19, 20]"
      ]
     },
     "execution_count": 40,
     "metadata": {},
     "output_type": "execute_result"
    }
   ],
   "source": [
    "NumOfClusterer"
   ]
  },
  {
   "cell_type": "code",
   "execution_count": 41,
   "metadata": {},
   "outputs": [
    {
     "data": {
      "image/png": "[encoded data removed]",
      "text/plain": [
       "<Figure size 432x288 with 1 Axes>"
      ]
     },
     "metadata": {},
     "output_type": "display_data"
    }
   ],
   "source": [
    "plt.plot(NumOfClusterer,distortions)\n",
    "plt.xticks(NumOfClusterer)\n",
    "plt.ylabel('WCSS')\n",
    "plt.xlabel('NumOfClusterer')\n",
    "plt.title('Elbow Curve ')\n",
    "plt.show()"
   ]
  },
  {
   "cell_type": "code",
   "execution_count": 42,
   "metadata": {},
   "outputs": [
    {
     "name": "stdout",
     "output_type": "stream",
     "text": [
      "==1==\n",
      "Q:מה מספר הקלאסטרים הטוב ביותר שמצאתם?\n",
      "A:5\n"
     ]
    }
   ],
   "source": [
    "print('==1==')\n",
    "print('Q:מה מספר הקלאסטרים הטוב ביותר שמצאתם?')\n",
    "print('A:5')"
   ]
  },
  {
   "cell_type": "code",
   "execution_count": 43,
   "metadata": {},
   "outputs": [],
   "source": [
    "##cluster 5\n",
    "NumOfBestClusters = 5\n",
    "centroids,_ = kmeans(data,NumOfBestClusters)\n",
    "idx,_ = vq(data,centroids)"
   ]
  },
  {
   "cell_type": "code",
   "execution_count": 44,
   "metadata": {},
   "outputs": [
    {
     "name": "stdout",
     "output_type": "stream",
     "text": [
      "==1==\n",
      "Q:מה חישבתם ב-2 פיסות הקוד הנ\"ל?\n",
      "A:את המרכזים של כל קלאסטר\n"
     ]
    }
   ],
   "source": [
    "print('==1==')\n",
    "print('Q:מה חישבתם ב-2 פיסות הקוד הנ\"ל?')\n",
    "print('A:את המרכזים של כל קלאסטר')"
   ]
  },
  {
   "cell_type": "code",
   "execution_count": 45,
   "metadata": {},
   "outputs": [
    {
     "data": {
      "text/plain": [
       "array([1, 0, 3, 4, 1, 4, 2, 0, 4, 0, 1, 4, 4, 0, 3, 4, 0, 4, 4, 3, 1, 1,\n",
       "       1, 1, 0, 0, 0, 1, 3, 1, 1, 1, 4, 1, 4, 0, 4, 1, 1, 4, 2, 0, 4, 0,\n",
       "       3, 1, 2, 2, 4, 0, 3, 1, 4, 1, 1, 4, 1, 1, 1, 4, 1, 4, 4, 0, 1, 1,\n",
       "       2, 3, 1, 0, 0, 1, 1, 1, 1, 1, 1, 3, 3, 4, 4, 1, 0, 4, 0, 0, 1, 4,\n",
       "       2, 1, 0, 0, 3, 1, 0, 0, 4, 0, 2, 1, 0, 0, 1, 4, 0, 4, 1, 0, 0, 0,\n",
       "       1, 0, 3, 0, 1, 0, 2, 3, 0, 1, 0, 1, 2, 3, 0, 1, 2, 1, 0, 1, 0, 4,\n",
       "       4, 0, 4, 0, 0, 4, 0, 2, 3, 0, 4, 1, 1, 4, 4, 0, 0, 0, 4, 0, 1, 0,\n",
       "       1, 3, 3, 0, 0, 2, 1, 1, 1, 4, 4, 1, 1, 3, 4, 4, 1, 1, 4, 0, 1, 1,\n",
       "       0, 3, 0, 1, 0, 3, 4, 4, 0, 3, 1, 1, 1, 1, 4, 4, 0, 1, 4, 1, 4, 0,\n",
       "       4, 3, 3, 3, 4, 3, 4, 0, 0, 4, 1, 0, 0, 0, 1, 2, 1, 1, 3, 3, 0, 0,\n",
       "       1, 4, 0, 1, 0, 1, 4, 0, 4, 0, 1, 1, 1, 0, 0, 2, 0, 1, 1, 1, 1, 4,\n",
       "       4, 4, 0, 4, 2, 1, 1, 0, 0, 0, 3, 1, 1, 0, 4, 1, 0, 0, 4, 1, 0, 0,\n",
       "       1, 1, 3, 4, 1, 4, 2, 1, 4, 1, 2, 3, 3, 0, 3, 4, 1, 2, 0, 1, 4, 2,\n",
       "       4, 0, 0, 1, 4, 4, 4, 0, 1, 4, 0, 3, 0, 2, 4, 1, 4, 4, 4, 1, 1, 0,\n",
       "       0, 1, 1, 1, 4, 1, 4, 2, 4, 1, 0, 3, 1, 1, 4, 1, 3, 4, 2, 3, 1, 3,\n",
       "       0, 0, 0, 1, 1, 1, 1, 3, 1, 0, 4, 3, 1, 1, 1, 4, 1, 0, 0, 2, 4, 1,\n",
       "       3, 4, 0, 4, 0, 4, 1, 4, 1, 2, 1, 0, 0, 1, 1, 1, 3, 1, 1, 0, 0, 1,\n",
       "       1, 1, 1, 1, 1, 4, 0, 0, 0, 4, 0, 2, 1, 2, 1, 0, 0, 1, 1, 0, 3, 1,\n",
       "       1, 4, 0, 4, 3, 1, 1, 4, 4, 0, 4, 0, 4, 0, 1, 4, 4, 3, 2, 0, 0, 4,\n",
       "       0, 4, 1, 1, 4, 1, 1, 4, 4, 1, 0, 1, 0, 3, 2, 1, 0, 4, 4, 3, 4, 2,\n",
       "       1, 0, 1, 2, 0, 1, 0, 2, 1, 0, 1, 0, 0, 1, 0, 0, 1, 4, 0, 3, 4, 1,\n",
       "       1, 0, 1, 1, 0, 1, 4, 1, 0, 4, 1, 0, 1, 3, 1, 1, 1, 1, 0, 1, 4, 2,\n",
       "       4, 0, 4, 4, 0, 1, 4, 1, 2, 0, 0, 0, 2, 4, 1, 4])"
      ]
     },
     "execution_count": 45,
     "metadata": {},
     "output_type": "execute_result"
    }
   ],
   "source": [
    "idx \n",
    "#מספר הקלאסטר של כל שורה\n",
    "#centroids המרכזים של כל קלאסטר"
   ]
  },
  {
   "cell_type": "code",
   "execution_count": 46,
   "metadata": {},
   "outputs": [
    {
     "data": {
      "image/png": "[encoded data removed]",
      "text/plain": [
       "<Figure size 432x288 with 1 Axes>"
      ]
     },
     "metadata": {},
     "output_type": "display_data"
    }
   ],
   "source": [
    "color = ['b','y','r','c','g']\n",
    "for i in range(NumOfBestClusters):\n",
    "    plot(data[idx==i,1],data[idx==i,0],'ro',c=color[i])\n",
    "    plot(centroids[i][1],centroids[i][0],'ro',c='k',markersize=8)\n",
    "plt.title('the data by clusters')\n",
    "plt.xlabel('std')\n",
    "plt.ylabel('mean')\n",
    "plt.show()"
   ]
  },
  {
   "cell_type": "code",
   "execution_count": 47,
   "metadata": {},
   "outputs": [
    {
     "name": "stdout",
     "output_type": "stream",
     "text": [
      "==1==\n",
      "Q:האם ישנם outliers להערכתם?\n",
      "A:להערכתנו יש אווטליירים, ניתן לראות על הגרף את הנקודות הרחוקות מכל קלאס\n"
     ]
    }
   ],
   "source": [
    "print('==1==')\n",
    "print('Q:האם ישנם outliers להערכתם?')\n",
    "print('A:להערכתנו יש אווטליירים, ניתן לראות על הגרף את הנקודות הרחוקות מכל קלאס')"
   ]
  },
  {
   "cell_type": "code",
   "execution_count": 48,
   "metadata": {},
   "outputs": [
    {
     "data": {
      "image/png": "[encoded data removed]",
      "text/plain": [
       "<Figure size 432x288 with 1 Axes>"
      ]
     },
     "metadata": {},
     "output_type": "display_data"
    }
   ],
   "source": [
    "outliers = Returns.idxmax(axis=0)\n",
    "Returns = Returns.drop(index=outliers)\n",
    "data = np.asarray([np.asarray(Returns['Returns']),np.asarray(Returns['Volatility'])]).T\n",
    "NumOfBestClusters = 5\n",
    "centroids,_ = kmeans(data,NumOfBestClusters)\n",
    "idx,_ = vq(data,centroids)\n",
    "for i in range(NumOfBestClusters):\n",
    "    plot(data[idx==i,1],data[idx==i,0],'ro',c=color[i])\n",
    "    plot(centroids[i][1],centroids[i][0],'ro',c='k',markersize=8)\n",
    "plt.title('the data by clusters')\n",
    "plt.xlabel('std')\n",
    "plt.ylabel('mean')\n",
    "plt.show()\n"
   ]
  },
  {
   "cell_type": "code",
   "execution_count": 49,
   "metadata": {},
   "outputs": [
    {
     "data": {
      "text/plain": [
       "Returns       HWM\n",
       "Volatility    ETN\n",
       "dtype: object"
      ]
     },
     "execution_count": 49,
     "metadata": {},
     "output_type": "execute_result"
    }
   ],
   "source": [
    "outliers[0:]"
   ]
  },
  {
   "cell_type": "code",
   "execution_count": 50,
   "metadata": {},
   "outputs": [
    {
     "name": "stdout",
     "output_type": "stream",
     "text": [
      "==1==\n",
      "Q:מה ניתן להגיד על המניות מבחינת החזר ותנודתיות?\n",
      "Q:מה ניתן להגיד על הקבוצות שיצאו לכם?\n",
      "A:המניות חולקו לחמישה קבוצות עפי ממוצע וסטיות תקן, ניתן לראות כי מניות שמתאפיינות בממוצע שקרוב לאפס מתאפיינות גם בסטיית תקן נמוכה מאוד\n",
      "A:מנגד ניתן לראות שמניות עם סטיית תקן גבוה נמצאות בנקודות קצה, מרוויחות הרבה או מפסידות הרבה\n"
     ]
    }
   ],
   "source": [
    "print('==1==')\n",
    "print('Q:מה ניתן להגיד על המניות מבחינת החזר ותנודתיות?')\n",
    "print('Q:מה ניתן להגיד על הקבוצות שיצאו לכם?')\n",
    "print('A:המניות חולקו לחמישה קבוצות עפי ממוצע וסטיות תקן, ניתן לראות כי מניות שמתאפיינות בממוצע שקרוב לאפס מתאפיינות גם בסטיית תקן נמוכה מאוד')\n",
    "print('A:מנגד ניתן לראות שמניות עם סטיית תקן גבוה נמצאות בנקודות קצה, מרוויחות הרבה או מפסידות הרבה')"
   ]
  },
  {
   "cell_type": "code",
   "execution_count": 51,
   "metadata": {},
   "outputs": [],
   "source": [
    "details = [(name,cluster) for name, cluster in zip(Returns.index,idx)]\n",
    "labels =['Stock Symbol', 'Cluster']\n",
    "dfPart2 = pd.DataFrame.from_records(details, columns=labels)"
   ]
  },
  {
   "cell_type": "code",
   "execution_count": 52,
   "metadata": {},
   "outputs": [
    {
     "data": {
      "text/html": [
       "<div>\n",
       "<style scoped>\n",
       "    .dataframe tbody tr th:only-of-type {\n",
       "        vertical-align: middle;\n",
       "    }\n",
       "\n",
       "    .dataframe tbody tr th {\n",
       "        vertical-align: top;\n",
       "    }\n",
       "\n",
       "    .dataframe thead th {\n",
       "        text-align: right;\n",
       "    }\n",
       "</style>\n",
       "<table border=\"1\" class=\"dataframe\">\n",
       "  <thead>\n",
       "    <tr style=\"text-align: right;\">\n",
       "      <th></th>\n",
       "      <th>Stock Symbol</th>\n",
       "      <th>Cluster</th>\n",
       "    </tr>\n",
       "  </thead>\n",
       "  <tbody>\n",
       "    <tr>\n",
       "      <th>0</th>\n",
       "      <td>ABT</td>\n",
       "      <td>0</td>\n",
       "    </tr>\n",
       "    <tr>\n",
       "      <th>1</th>\n",
       "      <td>ABBV</td>\n",
       "      <td>4</td>\n",
       "    </tr>\n",
       "    <tr>\n",
       "      <th>2</th>\n",
       "      <td>ABMD</td>\n",
       "      <td>3</td>\n",
       "    </tr>\n",
       "    <tr>\n",
       "      <th>3</th>\n",
       "      <td>ACN</td>\n",
       "      <td>2</td>\n",
       "    </tr>\n",
       "    <tr>\n",
       "      <th>4</th>\n",
       "      <td>ATVI</td>\n",
       "      <td>0</td>\n",
       "    </tr>\n",
       "    <tr>\n",
       "      <th>...</th>\n",
       "      <td>...</td>\n",
       "      <td>...</td>\n",
       "    </tr>\n",
       "    <tr>\n",
       "      <th>493</th>\n",
       "      <td>YUM</td>\n",
       "      <td>4</td>\n",
       "    </tr>\n",
       "    <tr>\n",
       "      <th>494</th>\n",
       "      <td>ZBRA</td>\n",
       "      <td>1</td>\n",
       "    </tr>\n",
       "    <tr>\n",
       "      <th>495</th>\n",
       "      <td>ZBH</td>\n",
       "      <td>2</td>\n",
       "    </tr>\n",
       "    <tr>\n",
       "      <th>496</th>\n",
       "      <td>ZION</td>\n",
       "      <td>0</td>\n",
       "    </tr>\n",
       "    <tr>\n",
       "      <th>497</th>\n",
       "      <td>ZTS</td>\n",
       "      <td>2</td>\n",
       "    </tr>\n",
       "  </tbody>\n",
       "</table>\n",
       "<p>498 rows × 2 columns</p>\n",
       "</div>"
      ],
      "text/plain": [
       "    Stock Symbol  Cluster\n",
       "0            ABT        0\n",
       "1           ABBV        4\n",
       "2           ABMD        3\n",
       "3            ACN        2\n",
       "4           ATVI        0\n",
       "..           ...      ...\n",
       "493          YUM        4\n",
       "494         ZBRA        1\n",
       "495          ZBH        2\n",
       "496         ZION        0\n",
       "497          ZTS        2\n",
       "\n",
       "[498 rows x 2 columns]"
      ]
     },
     "execution_count": 52,
     "metadata": {},
     "output_type": "execute_result"
    }
   ],
   "source": [
    "dfPart2"
   ]
  },
  {
   "cell_type": "code",
   "execution_count": 53,
   "metadata": {},
   "outputs": [],
   "source": [
    "p2c1 = dfPart2['Stock Symbol'][dfPart2['Cluster']==0]\n",
    "p2c2 = dfPart2['Stock Symbol'][dfPart2['Cluster']==1]\n",
    "p2c3 = dfPart2['Stock Symbol'][dfPart2['Cluster']==2]\n",
    "p2c4 = dfPart2['Stock Symbol'][dfPart2['Cluster']==3]\n",
    "p2c5 = dfPart2['Stock Symbol'][dfPart2['Cluster']==4]"
   ]
  },
  {
   "cell_type": "code",
   "execution_count": 54,
   "metadata": {},
   "outputs": [
    {
     "name": "stdout",
     "output_type": "stream",
     "text": [
      "Cluster1\n",
      "ABT\n",
      "ATVI\n",
      "A\n",
      "LNT\n",
      "ALL\n",
      "GOOGL\n",
      "GOOG\n",
      "AEP\n",
      "AXP\n",
      "AIG\n",
      "\n",
      "Cluster2\n",
      "AMD\n",
      "ANSS\n",
      "AAPL\n",
      "AMAT\n",
      "BBY\n",
      "CDW\n",
      "CMG\n",
      "CAG\n",
      "CPRT\n",
      "COTY\n",
      "\n",
      "Cluster3\n",
      "ACN\n",
      "ADBE\n",
      "AES\n",
      "APD\n",
      "AKAM\n",
      "ARE\n",
      "ALGN\n",
      "ALLE\n",
      "AMT\n",
      "AMP\n",
      "\n",
      "Cluster4\n",
      "ABMD\n",
      "ALB\n",
      "ADS\n",
      "AAL\n",
      "APA\n",
      "ANET\n",
      "BIIB\n",
      "CHRW\n",
      "COG\n",
      "CTL\n",
      "\n",
      "Cluster5\n",
      "ABBV\n",
      "AAP\n",
      "AFL\n",
      "ALK\n",
      "ALXN\n",
      "MO\n",
      "AMZN\n",
      "AMCR\n",
      "AEE\n",
      "ABC\n",
      "\n"
     ]
    }
   ],
   "source": [
    "for i in range(NumOfBestClusters):\n",
    "    name = 'Cluster'+str(i+1)\n",
    "    print(name)\n",
    "    for j in (dfPart2['Stock Symbol'][dfPart2['Cluster']==i][:10]):\n",
    "        print(j)\n",
    "    print()"
   ]
  },
  {
   "cell_type": "markdown",
   "metadata": {},
   "source": [
    "# Part 3"
   ]
  },
  {
   "cell_type": "code",
   "execution_count": 55,
   "metadata": {},
   "outputs": [],
   "source": [
    "data = pd.read_csv('prices_df_2019.csv')\n",
    "data = data.set_index('Date')\n",
    "data = data.pct_change()\n"
   ]
  },
  {
   "cell_type": "code",
   "execution_count": 56,
   "metadata": {},
   "outputs": [
    {
     "data": {
      "text/html": [
       "<div>\n",
       "<style scoped>\n",
       "    .dataframe tbody tr th:only-of-type {\n",
       "        vertical-align: middle;\n",
       "    }\n",
       "\n",
       "    .dataframe tbody tr th {\n",
       "        vertical-align: top;\n",
       "    }\n",
       "\n",
       "    .dataframe thead th {\n",
       "        text-align: right;\n",
       "    }\n",
       "</style>\n",
       "<table border=\"1\" class=\"dataframe\">\n",
       "  <thead>\n",
       "    <tr style=\"text-align: right;\">\n",
       "      <th></th>\n",
       "      <th>ABT</th>\n",
       "      <th>ABBV</th>\n",
       "      <th>ABMD</th>\n",
       "      <th>ACN</th>\n",
       "      <th>ATVI</th>\n",
       "      <th>ADBE</th>\n",
       "      <th>AMD</th>\n",
       "      <th>AAP</th>\n",
       "      <th>AES</th>\n",
       "      <th>AFL</th>\n",
       "      <th>...</th>\n",
       "      <th>WYNN</th>\n",
       "      <th>XEL</th>\n",
       "      <th>XRX</th>\n",
       "      <th>XLNX</th>\n",
       "      <th>XYL</th>\n",
       "      <th>YUM</th>\n",
       "      <th>ZBRA</th>\n",
       "      <th>ZBH</th>\n",
       "      <th>ZION</th>\n",
       "      <th>ZTS</th>\n",
       "    </tr>\n",
       "    <tr>\n",
       "      <th>Date</th>\n",
       "      <th></th>\n",
       "      <th></th>\n",
       "      <th></th>\n",
       "      <th></th>\n",
       "      <th></th>\n",
       "      <th></th>\n",
       "      <th></th>\n",
       "      <th></th>\n",
       "      <th></th>\n",
       "      <th></th>\n",
       "      <th></th>\n",
       "      <th></th>\n",
       "      <th></th>\n",
       "      <th></th>\n",
       "      <th></th>\n",
       "      <th></th>\n",
       "      <th></th>\n",
       "      <th></th>\n",
       "      <th></th>\n",
       "      <th></th>\n",
       "      <th></th>\n",
       "    </tr>\n",
       "  </thead>\n",
       "  <tbody>\n",
       "    <tr>\n",
       "      <th>02/01/2019</th>\n",
       "      <td>NaN</td>\n",
       "      <td>NaN</td>\n",
       "      <td>NaN</td>\n",
       "      <td>NaN</td>\n",
       "      <td>NaN</td>\n",
       "      <td>NaN</td>\n",
       "      <td>NaN</td>\n",
       "      <td>NaN</td>\n",
       "      <td>NaN</td>\n",
       "      <td>NaN</td>\n",
       "      <td>...</td>\n",
       "      <td>NaN</td>\n",
       "      <td>NaN</td>\n",
       "      <td>NaN</td>\n",
       "      <td>NaN</td>\n",
       "      <td>NaN</td>\n",
       "      <td>NaN</td>\n",
       "      <td>NaN</td>\n",
       "      <td>NaN</td>\n",
       "      <td>NaN</td>\n",
       "      <td>NaN</td>\n",
       "    </tr>\n",
       "    <tr>\n",
       "      <th>03/01/2019</th>\n",
       "      <td>-0.047194</td>\n",
       "      <td>-0.032949</td>\n",
       "      <td>-0.024745</td>\n",
       "      <td>-0.034142</td>\n",
       "      <td>-0.035509</td>\n",
       "      <td>-0.039498</td>\n",
       "      <td>-0.094530</td>\n",
       "      <td>0.031218</td>\n",
       "      <td>-0.000705</td>\n",
       "      <td>-0.025264</td>\n",
       "      <td>...</td>\n",
       "      <td>-0.009674</td>\n",
       "      <td>-0.003940</td>\n",
       "      <td>-0.021858</td>\n",
       "      <td>-0.037651</td>\n",
       "      <td>-0.034280</td>\n",
       "      <td>-0.025153</td>\n",
       "      <td>-0.059908</td>\n",
       "      <td>-0.018088</td>\n",
       "      <td>-0.005531</td>\n",
       "      <td>-0.034564</td>\n",
       "    </tr>\n",
       "    <tr>\n",
       "      <th>04/01/2019</th>\n",
       "      <td>0.028541</td>\n",
       "      <td>0.032217</td>\n",
       "      <td>0.036885</td>\n",
       "      <td>0.038884</td>\n",
       "      <td>0.039903</td>\n",
       "      <td>0.048632</td>\n",
       "      <td>0.114370</td>\n",
       "      <td>-0.024808</td>\n",
       "      <td>0.033169</td>\n",
       "      <td>0.012396</td>\n",
       "      <td>...</td>\n",
       "      <td>0.040333</td>\n",
       "      <td>0.009786</td>\n",
       "      <td>0.038598</td>\n",
       "      <td>0.046303</td>\n",
       "      <td>0.042192</td>\n",
       "      <td>0.026027</td>\n",
       "      <td>0.041462</td>\n",
       "      <td>0.034153</td>\n",
       "      <td>0.030713</td>\n",
       "      <td>0.039235</td>\n",
       "    </tr>\n",
       "    <tr>\n",
       "      <th>07/01/2019</th>\n",
       "      <td>0.014976</td>\n",
       "      <td>0.014595</td>\n",
       "      <td>0.004339</td>\n",
       "      <td>0.003474</td>\n",
       "      <td>0.028196</td>\n",
       "      <td>0.013573</td>\n",
       "      <td>0.082632</td>\n",
       "      <td>0.014672</td>\n",
       "      <td>0.004781</td>\n",
       "      <td>0.005343</td>\n",
       "      <td>...</td>\n",
       "      <td>0.017758</td>\n",
       "      <td>-0.004330</td>\n",
       "      <td>0.021516</td>\n",
       "      <td>0.026415</td>\n",
       "      <td>-0.014789</td>\n",
       "      <td>-0.001093</td>\n",
       "      <td>0.015166</td>\n",
       "      <td>0.000385</td>\n",
       "      <td>0.003989</td>\n",
       "      <td>0.006017</td>\n",
       "    </tr>\n",
       "    <tr>\n",
       "      <th>08/01/2019</th>\n",
       "      <td>-0.012006</td>\n",
       "      <td>0.004648</td>\n",
       "      <td>0.011499</td>\n",
       "      <td>0.025290</td>\n",
       "      <td>0.030309</td>\n",
       "      <td>0.014918</td>\n",
       "      <td>0.008751</td>\n",
       "      <td>-0.006950</td>\n",
       "      <td>0.023113</td>\n",
       "      <td>0.003100</td>\n",
       "      <td>...</td>\n",
       "      <td>0.031333</td>\n",
       "      <td>0.011596</td>\n",
       "      <td>0.033030</td>\n",
       "      <td>-0.019051</td>\n",
       "      <td>0.009401</td>\n",
       "      <td>-0.001970</td>\n",
       "      <td>0.006697</td>\n",
       "      <td>-0.022425</td>\n",
       "      <td>0.009114</td>\n",
       "      <td>0.014894</td>\n",
       "    </tr>\n",
       "  </tbody>\n",
       "</table>\n",
       "<p>5 rows × 500 columns</p>\n",
       "</div>"
      ],
      "text/plain": [
       "                 ABT      ABBV      ABMD       ACN      ATVI      ADBE  \\\n",
       "Date                                                                     \n",
       "02/01/2019       NaN       NaN       NaN       NaN       NaN       NaN   \n",
       "03/01/2019 -0.047194 -0.032949 -0.024745 -0.034142 -0.035509 -0.039498   \n",
       "04/01/2019  0.028541  0.032217  0.036885  0.038884  0.039903  0.048632   \n",
       "07/01/2019  0.014976  0.014595  0.004339  0.003474  0.028196  0.013573   \n",
       "08/01/2019 -0.012006  0.004648  0.011499  0.025290  0.030309  0.014918   \n",
       "\n",
       "                 AMD       AAP       AES       AFL  ...      WYNN       XEL  \\\n",
       "Date                                                ...                       \n",
       "02/01/2019       NaN       NaN       NaN       NaN  ...       NaN       NaN   \n",
       "03/01/2019 -0.094530  0.031218 -0.000705 -0.025264  ... -0.009674 -0.003940   \n",
       "04/01/2019  0.114370 -0.024808  0.033169  0.012396  ...  0.040333  0.009786   \n",
       "07/01/2019  0.082632  0.014672  0.004781  0.005343  ...  0.017758 -0.004330   \n",
       "08/01/2019  0.008751 -0.006950  0.023113  0.003100  ...  0.031333  0.011596   \n",
       "\n",
       "                 XRX      XLNX       XYL       YUM      ZBRA       ZBH  \\\n",
       "Date                                                                     \n",
       "02/01/2019       NaN       NaN       NaN       NaN       NaN       NaN   \n",
       "03/01/2019 -0.021858 -0.037651 -0.034280 -0.025153 -0.059908 -0.018088   \n",
       "04/01/2019  0.038598  0.046303  0.042192  0.026027  0.041462  0.034153   \n",
       "07/01/2019  0.021516  0.026415 -0.014789 -0.001093  0.015166  0.000385   \n",
       "08/01/2019  0.033030 -0.019051  0.009401 -0.001970  0.006697 -0.022425   \n",
       "\n",
       "                ZION       ZTS  \n",
       "Date                            \n",
       "02/01/2019       NaN       NaN  \n",
       "03/01/2019 -0.005531 -0.034564  \n",
       "04/01/2019  0.030713  0.039235  \n",
       "07/01/2019  0.003989  0.006017  \n",
       "08/01/2019  0.009114  0.014894  \n",
       "\n",
       "[5 rows x 500 columns]"
      ]
     },
     "execution_count": 56,
     "metadata": {},
     "output_type": "execute_result"
    }
   ],
   "source": [
    "data.head()"
   ]
  },
  {
   "cell_type": "code",
   "execution_count": 57,
   "metadata": {},
   "outputs": [
    {
     "name": "stdout",
     "output_type": "stream",
     "text": [
      "==1==\n",
      "Q:ניתן לראות שהשורה הראשונה של תאריך 02/01/2019 מלאה ב-NaN. מדוע זאת?\n",
      "Q:השורה הראשומה מלאה בנאן מכיוון שבתאריך שלפני אין נתונים\n"
     ]
    }
   ],
   "source": [
    "print('==1==')\n",
    "print('Q:ניתן לראות שהשורה הראשונה של תאריך 02/01/2019 מלאה ב-NaN. מדוע זאת?')\n",
    "print('Q:השורה הראשומה מלאה בנאן מכיוון שבתאריך שלפני אין נתונים')"
   ]
  },
  {
   "cell_type": "code",
   "execution_count": 58,
   "metadata": {},
   "outputs": [
    {
     "data": {
      "text/html": [
       "<div>\n",
       "<style scoped>\n",
       "    .dataframe tbody tr th:only-of-type {\n",
       "        vertical-align: middle;\n",
       "    }\n",
       "\n",
       "    .dataframe tbody tr th {\n",
       "        vertical-align: top;\n",
       "    }\n",
       "\n",
       "    .dataframe thead th {\n",
       "        text-align: right;\n",
       "    }\n",
       "</style>\n",
       "<table border=\"1\" class=\"dataframe\">\n",
       "  <thead>\n",
       "    <tr style=\"text-align: right;\">\n",
       "      <th></th>\n",
       "      <th>ABT</th>\n",
       "      <th>ABBV</th>\n",
       "      <th>ABMD</th>\n",
       "      <th>ACN</th>\n",
       "      <th>ATVI</th>\n",
       "      <th>ADBE</th>\n",
       "      <th>AMD</th>\n",
       "      <th>AAP</th>\n",
       "      <th>AES</th>\n",
       "      <th>AFL</th>\n",
       "      <th>...</th>\n",
       "      <th>WYNN</th>\n",
       "      <th>XEL</th>\n",
       "      <th>XRX</th>\n",
       "      <th>XLNX</th>\n",
       "      <th>XYL</th>\n",
       "      <th>YUM</th>\n",
       "      <th>ZBRA</th>\n",
       "      <th>ZBH</th>\n",
       "      <th>ZION</th>\n",
       "      <th>ZTS</th>\n",
       "    </tr>\n",
       "    <tr>\n",
       "      <th>Date</th>\n",
       "      <th></th>\n",
       "      <th></th>\n",
       "      <th></th>\n",
       "      <th></th>\n",
       "      <th></th>\n",
       "      <th></th>\n",
       "      <th></th>\n",
       "      <th></th>\n",
       "      <th></th>\n",
       "      <th></th>\n",
       "      <th></th>\n",
       "      <th></th>\n",
       "      <th></th>\n",
       "      <th></th>\n",
       "      <th></th>\n",
       "      <th></th>\n",
       "      <th></th>\n",
       "      <th></th>\n",
       "      <th></th>\n",
       "      <th></th>\n",
       "      <th></th>\n",
       "    </tr>\n",
       "  </thead>\n",
       "  <tbody>\n",
       "    <tr>\n",
       "      <th>03/01/2019</th>\n",
       "      <td>-0.047194</td>\n",
       "      <td>-0.032949</td>\n",
       "      <td>-0.024745</td>\n",
       "      <td>-0.034142</td>\n",
       "      <td>-0.035509</td>\n",
       "      <td>-0.039498</td>\n",
       "      <td>-0.094530</td>\n",
       "      <td>0.031218</td>\n",
       "      <td>-0.000705</td>\n",
       "      <td>-0.025264</td>\n",
       "      <td>...</td>\n",
       "      <td>-0.009674</td>\n",
       "      <td>-0.003940</td>\n",
       "      <td>-0.021858</td>\n",
       "      <td>-0.037651</td>\n",
       "      <td>-0.034280</td>\n",
       "      <td>-0.025153</td>\n",
       "      <td>-0.059908</td>\n",
       "      <td>-0.018088</td>\n",
       "      <td>-0.005531</td>\n",
       "      <td>-0.034564</td>\n",
       "    </tr>\n",
       "    <tr>\n",
       "      <th>04/01/2019</th>\n",
       "      <td>0.028541</td>\n",
       "      <td>0.032217</td>\n",
       "      <td>0.036885</td>\n",
       "      <td>0.038884</td>\n",
       "      <td>0.039903</td>\n",
       "      <td>0.048632</td>\n",
       "      <td>0.114370</td>\n",
       "      <td>-0.024808</td>\n",
       "      <td>0.033169</td>\n",
       "      <td>0.012396</td>\n",
       "      <td>...</td>\n",
       "      <td>0.040333</td>\n",
       "      <td>0.009786</td>\n",
       "      <td>0.038598</td>\n",
       "      <td>0.046303</td>\n",
       "      <td>0.042192</td>\n",
       "      <td>0.026027</td>\n",
       "      <td>0.041462</td>\n",
       "      <td>0.034153</td>\n",
       "      <td>0.030713</td>\n",
       "      <td>0.039235</td>\n",
       "    </tr>\n",
       "    <tr>\n",
       "      <th>07/01/2019</th>\n",
       "      <td>0.014976</td>\n",
       "      <td>0.014595</td>\n",
       "      <td>0.004339</td>\n",
       "      <td>0.003474</td>\n",
       "      <td>0.028196</td>\n",
       "      <td>0.013573</td>\n",
       "      <td>0.082632</td>\n",
       "      <td>0.014672</td>\n",
       "      <td>0.004781</td>\n",
       "      <td>0.005343</td>\n",
       "      <td>...</td>\n",
       "      <td>0.017758</td>\n",
       "      <td>-0.004330</td>\n",
       "      <td>0.021516</td>\n",
       "      <td>0.026415</td>\n",
       "      <td>-0.014789</td>\n",
       "      <td>-0.001093</td>\n",
       "      <td>0.015166</td>\n",
       "      <td>0.000385</td>\n",
       "      <td>0.003989</td>\n",
       "      <td>0.006017</td>\n",
       "    </tr>\n",
       "    <tr>\n",
       "      <th>08/01/2019</th>\n",
       "      <td>-0.012006</td>\n",
       "      <td>0.004648</td>\n",
       "      <td>0.011499</td>\n",
       "      <td>0.025290</td>\n",
       "      <td>0.030309</td>\n",
       "      <td>0.014918</td>\n",
       "      <td>0.008751</td>\n",
       "      <td>-0.006950</td>\n",
       "      <td>0.023113</td>\n",
       "      <td>0.003100</td>\n",
       "      <td>...</td>\n",
       "      <td>0.031333</td>\n",
       "      <td>0.011596</td>\n",
       "      <td>0.033030</td>\n",
       "      <td>-0.019051</td>\n",
       "      <td>0.009401</td>\n",
       "      <td>-0.001970</td>\n",
       "      <td>0.006697</td>\n",
       "      <td>-0.022425</td>\n",
       "      <td>0.009114</td>\n",
       "      <td>0.014894</td>\n",
       "    </tr>\n",
       "    <tr>\n",
       "      <th>09/01/2019</th>\n",
       "      <td>0.016691</td>\n",
       "      <td>-0.032823</td>\n",
       "      <td>0.056466</td>\n",
       "      <td>0.005030</td>\n",
       "      <td>0.017210</td>\n",
       "      <td>0.011819</td>\n",
       "      <td>-0.026988</td>\n",
       "      <td>0.027559</td>\n",
       "      <td>-0.001993</td>\n",
       "      <td>-0.002208</td>\n",
       "      <td>...</td>\n",
       "      <td>0.013020</td>\n",
       "      <td>-0.007984</td>\n",
       "      <td>0.014365</td>\n",
       "      <td>0.008972</td>\n",
       "      <td>0.016224</td>\n",
       "      <td>-0.000439</td>\n",
       "      <td>0.024819</td>\n",
       "      <td>0.008172</td>\n",
       "      <td>0.008569</td>\n",
       "      <td>-0.003582</td>\n",
       "    </tr>\n",
       "    <tr>\n",
       "      <th>...</th>\n",
       "      <td>...</td>\n",
       "      <td>...</td>\n",
       "      <td>...</td>\n",
       "      <td>...</td>\n",
       "      <td>...</td>\n",
       "      <td>...</td>\n",
       "      <td>...</td>\n",
       "      <td>...</td>\n",
       "      <td>...</td>\n",
       "      <td>...</td>\n",
       "      <td>...</td>\n",
       "      <td>...</td>\n",
       "      <td>...</td>\n",
       "      <td>...</td>\n",
       "      <td>...</td>\n",
       "      <td>...</td>\n",
       "      <td>...</td>\n",
       "      <td>...</td>\n",
       "      <td>...</td>\n",
       "      <td>...</td>\n",
       "      <td>...</td>\n",
       "    </tr>\n",
       "    <tr>\n",
       "      <th>24/12/2019</th>\n",
       "      <td>-0.000801</td>\n",
       "      <td>-0.004432</td>\n",
       "      <td>0.010913</td>\n",
       "      <td>0.003700</td>\n",
       "      <td>-0.001358</td>\n",
       "      <td>0.002098</td>\n",
       "      <td>0.023757</td>\n",
       "      <td>0.003751</td>\n",
       "      <td>-0.003027</td>\n",
       "      <td>0.004187</td>\n",
       "      <td>...</td>\n",
       "      <td>-0.005634</td>\n",
       "      <td>0.003913</td>\n",
       "      <td>0.000536</td>\n",
       "      <td>-0.004146</td>\n",
       "      <td>-0.003927</td>\n",
       "      <td>0.005210</td>\n",
       "      <td>-0.009348</td>\n",
       "      <td>-0.002447</td>\n",
       "      <td>0.003701</td>\n",
       "      <td>0.004155</td>\n",
       "    </tr>\n",
       "    <tr>\n",
       "      <th>26/12/2019</th>\n",
       "      <td>0.000000</td>\n",
       "      <td>-0.000223</td>\n",
       "      <td>-0.007487</td>\n",
       "      <td>0.002079</td>\n",
       "      <td>0.001360</td>\n",
       "      <td>0.004732</td>\n",
       "      <td>0.001934</td>\n",
       "      <td>-0.008096</td>\n",
       "      <td>0.008603</td>\n",
       "      <td>-0.002654</td>\n",
       "      <td>...</td>\n",
       "      <td>0.010757</td>\n",
       "      <td>-0.001114</td>\n",
       "      <td>0.002944</td>\n",
       "      <td>0.001929</td>\n",
       "      <td>-0.000509</td>\n",
       "      <td>0.014552</td>\n",
       "      <td>0.000354</td>\n",
       "      <td>-0.002191</td>\n",
       "      <td>0.002523</td>\n",
       "      <td>0.000827</td>\n",
       "    </tr>\n",
       "    <tr>\n",
       "      <th>27/12/2019</th>\n",
       "      <td>0.001375</td>\n",
       "      <td>-0.007013</td>\n",
       "      <td>-0.010175</td>\n",
       "      <td>0.000802</td>\n",
       "      <td>0.005094</td>\n",
       "      <td>-0.001238</td>\n",
       "      <td>-0.009650</td>\n",
       "      <td>-0.005776</td>\n",
       "      <td>0.002509</td>\n",
       "      <td>0.000000</td>\n",
       "      <td>...</td>\n",
       "      <td>-0.008018</td>\n",
       "      <td>0.005256</td>\n",
       "      <td>-0.004536</td>\n",
       "      <td>-0.002635</td>\n",
       "      <td>0.003053</td>\n",
       "      <td>0.001081</td>\n",
       "      <td>0.006210</td>\n",
       "      <td>-0.001930</td>\n",
       "      <td>-0.003097</td>\n",
       "      <td>0.001654</td>\n",
       "    </tr>\n",
       "    <tr>\n",
       "      <th>30/12/2019</th>\n",
       "      <td>-0.006865</td>\n",
       "      <td>-0.007623</td>\n",
       "      <td>-0.011697</td>\n",
       "      <td>-0.007445</td>\n",
       "      <td>-0.005237</td>\n",
       "      <td>-0.007407</td>\n",
       "      <td>-0.014292</td>\n",
       "      <td>0.004863</td>\n",
       "      <td>0.003003</td>\n",
       "      <td>0.002281</td>\n",
       "      <td>...</td>\n",
       "      <td>-0.003075</td>\n",
       "      <td>0.002693</td>\n",
       "      <td>-0.004317</td>\n",
       "      <td>-0.007519</td>\n",
       "      <td>-0.001268</td>\n",
       "      <td>-0.012365</td>\n",
       "      <td>-0.007383</td>\n",
       "      <td>-0.008399</td>\n",
       "      <td>0.005243</td>\n",
       "      <td>-0.007805</td>\n",
       "    </tr>\n",
       "    <tr>\n",
       "      <th>31/12/2019</th>\n",
       "      <td>0.000691</td>\n",
       "      <td>0.000226</td>\n",
       "      <td>0.019726</td>\n",
       "      <td>-0.000332</td>\n",
       "      <td>0.009171</td>\n",
       "      <td>0.004477</td>\n",
       "      <td>0.007469</td>\n",
       "      <td>0.006536</td>\n",
       "      <td>-0.006986</td>\n",
       "      <td>0.003034</td>\n",
       "      <td>...</td>\n",
       "      <td>-0.003659</td>\n",
       "      <td>0.003160</td>\n",
       "      <td>-0.000813</td>\n",
       "      <td>0.000921</td>\n",
       "      <td>0.000635</td>\n",
       "      <td>0.000894</td>\n",
       "      <td>0.005234</td>\n",
       "      <td>0.006252</td>\n",
       "      <td>0.002897</td>\n",
       "      <td>0.001059</td>\n",
       "    </tr>\n",
       "  </tbody>\n",
       "</table>\n",
       "<p>251 rows × 500 columns</p>\n",
       "</div>"
      ],
      "text/plain": [
       "                 ABT      ABBV      ABMD       ACN      ATVI      ADBE  \\\n",
       "Date                                                                     \n",
       "03/01/2019 -0.047194 -0.032949 -0.024745 -0.034142 -0.035509 -0.039498   \n",
       "04/01/2019  0.028541  0.032217  0.036885  0.038884  0.039903  0.048632   \n",
       "07/01/2019  0.014976  0.014595  0.004339  0.003474  0.028196  0.013573   \n",
       "08/01/2019 -0.012006  0.004648  0.011499  0.025290  0.030309  0.014918   \n",
       "09/01/2019  0.016691 -0.032823  0.056466  0.005030  0.017210  0.011819   \n",
       "...              ...       ...       ...       ...       ...       ...   \n",
       "24/12/2019 -0.000801 -0.004432  0.010913  0.003700 -0.001358  0.002098   \n",
       "26/12/2019  0.000000 -0.000223 -0.007487  0.002079  0.001360  0.004732   \n",
       "27/12/2019  0.001375 -0.007013 -0.010175  0.000802  0.005094 -0.001238   \n",
       "30/12/2019 -0.006865 -0.007623 -0.011697 -0.007445 -0.005237 -0.007407   \n",
       "31/12/2019  0.000691  0.000226  0.019726 -0.000332  0.009171  0.004477   \n",
       "\n",
       "                 AMD       AAP       AES       AFL  ...      WYNN       XEL  \\\n",
       "Date                                                ...                       \n",
       "03/01/2019 -0.094530  0.031218 -0.000705 -0.025264  ... -0.009674 -0.003940   \n",
       "04/01/2019  0.114370 -0.024808  0.033169  0.012396  ...  0.040333  0.009786   \n",
       "07/01/2019  0.082632  0.014672  0.004781  0.005343  ...  0.017758 -0.004330   \n",
       "08/01/2019  0.008751 -0.006950  0.023113  0.003100  ...  0.031333  0.011596   \n",
       "09/01/2019 -0.026988  0.027559 -0.001993 -0.002208  ...  0.013020 -0.007984   \n",
       "...              ...       ...       ...       ...  ...       ...       ...   \n",
       "24/12/2019  0.023757  0.003751 -0.003027  0.004187  ... -0.005634  0.003913   \n",
       "26/12/2019  0.001934 -0.008096  0.008603 -0.002654  ...  0.010757 -0.001114   \n",
       "27/12/2019 -0.009650 -0.005776  0.002509  0.000000  ... -0.008018  0.005256   \n",
       "30/12/2019 -0.014292  0.004863  0.003003  0.002281  ... -0.003075  0.002693   \n",
       "31/12/2019  0.007469  0.006536 -0.006986  0.003034  ... -0.003659  0.003160   \n",
       "\n",
       "                 XRX      XLNX       XYL       YUM      ZBRA       ZBH  \\\n",
       "Date                                                                     \n",
       "03/01/2019 -0.021858 -0.037651 -0.034280 -0.025153 -0.059908 -0.018088   \n",
       "04/01/2019  0.038598  0.046303  0.042192  0.026027  0.041462  0.034153   \n",
       "07/01/2019  0.021516  0.026415 -0.014789 -0.001093  0.015166  0.000385   \n",
       "08/01/2019  0.033030 -0.019051  0.009401 -0.001970  0.006697 -0.022425   \n",
       "09/01/2019  0.014365  0.008972  0.016224 -0.000439  0.024819  0.008172   \n",
       "...              ...       ...       ...       ...       ...       ...   \n",
       "24/12/2019  0.000536 -0.004146 -0.003927  0.005210 -0.009348 -0.002447   \n",
       "26/12/2019  0.002944  0.001929 -0.000509  0.014552  0.000354 -0.002191   \n",
       "27/12/2019 -0.004536 -0.002635  0.003053  0.001081  0.006210 -0.001930   \n",
       "30/12/2019 -0.004317 -0.007519 -0.001268 -0.012365 -0.007383 -0.008399   \n",
       "31/12/2019 -0.000813  0.000921  0.000635  0.000894  0.005234  0.006252   \n",
       "\n",
       "                ZION       ZTS  \n",
       "Date                            \n",
       "03/01/2019 -0.005531 -0.034564  \n",
       "04/01/2019  0.030713  0.039235  \n",
       "07/01/2019  0.003989  0.006017  \n",
       "08/01/2019  0.009114  0.014894  \n",
       "09/01/2019  0.008569 -0.003582  \n",
       "...              ...       ...  \n",
       "24/12/2019  0.003701  0.004155  \n",
       "26/12/2019  0.002523  0.000827  \n",
       "27/12/2019 -0.003097  0.001654  \n",
       "30/12/2019  0.005243 -0.007805  \n",
       "31/12/2019  0.002897  0.001059  \n",
       "\n",
       "[251 rows x 500 columns]"
      ]
     },
     "execution_count": 58,
     "metadata": {},
     "output_type": "execute_result"
    }
   ],
   "source": [
    "data = data[1:]\n",
    "data"
   ]
  },
  {
   "cell_type": "code",
   "execution_count": 59,
   "metadata": {},
   "outputs": [
    {
     "data": {
      "text/plain": [
       "(251, 500)"
      ]
     },
     "execution_count": 59,
     "metadata": {},
     "output_type": "execute_result"
    },
    {
     "data": {
      "image/png": "[encoded data removed]",
      "text/plain": [
       "<Figure size 432x288 with 1 Axes>"
      ]
     },
     "metadata": {},
     "output_type": "display_data"
    }
   ],
   "source": [
    "sns.heatmap(data.isnull(),yticklabels=False,cbar=False,cmap='viridis')\n",
    "data.shape"
   ]
  },
  {
   "cell_type": "code",
   "execution_count": 60,
   "metadata": {},
   "outputs": [
    {
     "data": {
      "text/plain": [
       "(251, 493)"
      ]
     },
     "execution_count": 60,
     "metadata": {},
     "output_type": "execute_result"
    },
    {
     "data": {
      "image/png": "[encoded data removed]",
      "text/plain": [
       "<Figure size 432x288 with 1 Axes>"
      ]
     },
     "metadata": {},
     "output_type": "display_data"
    }
   ],
   "source": [
    "data = data.dropna(axis='columns')\n",
    "#check if good\n",
    "sns.heatmap(data.isnull(),yticklabels=False,cbar=False,cmap='viridis')\n",
    "data.shape"
   ]
  },
  {
   "cell_type": "code",
   "execution_count": 61,
   "metadata": {},
   "outputs": [],
   "source": [
    "namestock = data.columns"
   ]
  },
  {
   "cell_type": "code",
   "execution_count": 62,
   "metadata": {},
   "outputs": [
    {
     "data": {
      "image/png": "[encoded data removed]",
      "text/plain": [
       "<Figure size 432x288 with 1 Axes>"
      ]
     },
     "metadata": {},
     "output_type": "display_data"
    }
   ],
   "source": [
    "import scipy.cluster.hierarchy as sch\n",
    "dendrogram = sch.dendrogram(sch.linkage(data.T,method='ward'))"
   ]
  },
  {
   "cell_type": "code",
   "execution_count": 63,
   "metadata": {},
   "outputs": [
    {
     "name": "stdout",
     "output_type": "stream",
     "text": [
      "==1==\n",
      "Q:הסבירו מהי שיטת ward.\n",
      "A: \n",
      "==2==\n",
      "Q:•\tהסבירו כיצד דנדוגרמה מבצעת את החלוקה לקלאסטרינג\n",
      "A: \n"
     ]
    }
   ],
   "source": [
    "print('==1==')\n",
    "print('Q:הסבירו מהי שיטת ward.')\n",
    "print('A: ')\n",
    "print('==2==')\n",
    "print('Q:•\tהסבירו כיצד דנדוגרמה מבצעת את החלוקה לקלאסטרינג')\n",
    "print('A: ')"
   ]
  },
  {
   "cell_type": "code",
   "execution_count": 64,
   "metadata": {},
   "outputs": [],
   "source": [
    "#5 clusterer\n",
    "NumOfBestCluster = 3\n",
    "from sklearn.cluster import AgglomerativeClustering\n",
    "hc = AgglomerativeClustering(n_clusters =NumOfBestCluster , affinity = 'euclidean', linkage = 'ward')\n",
    "centroids,_ = kmeans(data.T,NumOfBestCluster)\n",
    "idx,_ = vq(data.T,centroids)\n",
    "details = [(name,cluster) for name, cluster in zip(Returns.index,idx)]\n",
    "labels =['Stock Symbol', 'Cluster']\n",
    "dfPart3 = pd.DataFrame.from_records(details, columns=labels)"
   ]
  },
  {
   "cell_type": "code",
   "execution_count": 65,
   "metadata": {},
   "outputs": [
    {
     "data": {
      "text/html": [
       "<div>\n",
       "<style scoped>\n",
       "    .dataframe tbody tr th:only-of-type {\n",
       "        vertical-align: middle;\n",
       "    }\n",
       "\n",
       "    .dataframe tbody tr th {\n",
       "        vertical-align: top;\n",
       "    }\n",
       "\n",
       "    .dataframe thead th {\n",
       "        text-align: right;\n",
       "    }\n",
       "</style>\n",
       "<table border=\"1\" class=\"dataframe\">\n",
       "  <thead>\n",
       "    <tr style=\"text-align: right;\">\n",
       "      <th></th>\n",
       "      <th>Stock Symbol</th>\n",
       "      <th>Cluster</th>\n",
       "    </tr>\n",
       "  </thead>\n",
       "  <tbody>\n",
       "    <tr>\n",
       "      <th>0</th>\n",
       "      <td>ABT</td>\n",
       "      <td>2</td>\n",
       "    </tr>\n",
       "    <tr>\n",
       "      <th>1</th>\n",
       "      <td>ABBV</td>\n",
       "      <td>2</td>\n",
       "    </tr>\n",
       "    <tr>\n",
       "      <th>2</th>\n",
       "      <td>ABMD</td>\n",
       "      <td>1</td>\n",
       "    </tr>\n",
       "    <tr>\n",
       "      <th>3</th>\n",
       "      <td>ACN</td>\n",
       "      <td>2</td>\n",
       "    </tr>\n",
       "    <tr>\n",
       "      <th>4</th>\n",
       "      <td>ATVI</td>\n",
       "      <td>2</td>\n",
       "    </tr>\n",
       "    <tr>\n",
       "      <th>...</th>\n",
       "      <td>...</td>\n",
       "      <td>...</td>\n",
       "    </tr>\n",
       "    <tr>\n",
       "      <th>488</th>\n",
       "      <td>WYNN</td>\n",
       "      <td>0</td>\n",
       "    </tr>\n",
       "    <tr>\n",
       "      <th>489</th>\n",
       "      <td>XEL</td>\n",
       "      <td>1</td>\n",
       "    </tr>\n",
       "    <tr>\n",
       "      <th>490</th>\n",
       "      <td>XRX</td>\n",
       "      <td>2</td>\n",
       "    </tr>\n",
       "    <tr>\n",
       "      <th>491</th>\n",
       "      <td>XLNX</td>\n",
       "      <td>1</td>\n",
       "    </tr>\n",
       "    <tr>\n",
       "      <th>492</th>\n",
       "      <td>XYL</td>\n",
       "      <td>2</td>\n",
       "    </tr>\n",
       "  </tbody>\n",
       "</table>\n",
       "<p>493 rows × 2 columns</p>\n",
       "</div>"
      ],
      "text/plain": [
       "    Stock Symbol  Cluster\n",
       "0            ABT        2\n",
       "1           ABBV        2\n",
       "2           ABMD        1\n",
       "3            ACN        2\n",
       "4           ATVI        2\n",
       "..           ...      ...\n",
       "488         WYNN        0\n",
       "489          XEL        1\n",
       "490          XRX        2\n",
       "491         XLNX        1\n",
       "492          XYL        2\n",
       "\n",
       "[493 rows x 2 columns]"
      ]
     },
     "execution_count": 65,
     "metadata": {},
     "output_type": "execute_result"
    }
   ],
   "source": [
    "dfPart3"
   ]
  },
  {
   "cell_type": "code",
   "execution_count": 66,
   "metadata": {},
   "outputs": [],
   "source": [
    "p3c1 = dfPart3['Stock Symbol'][dfPart3['Cluster']==0]\n",
    "p3c2 = dfPart3['Stock Symbol'][dfPart3['Cluster']==1]\n",
    "p3c3 = dfPart3['Stock Symbol'][dfPart3['Cluster']==2]"
   ]
  },
  {
   "cell_type": "code",
   "execution_count": 67,
   "metadata": {},
   "outputs": [
    {
     "name": "stdout",
     "output_type": "stream",
     "text": [
      "==1==\n",
      "Q:כתבו לכל קלאס 10 מניות שקוטלגו כדומות אחת לשנייה.\n",
      "A: \n",
      "Cluster 1\n",
      "AES\n",
      "ARE\n",
      "LNT\n",
      "MO\n",
      "AEE\n",
      "AEP\n",
      "AMT\n",
      "AWK\n",
      "AIV\n",
      "ATO\n",
      "Cluster 2\n",
      "ABMD\n",
      "AMD\n",
      "ALB\n",
      "ADS\n",
      "AAL\n",
      "AMP\n",
      "ADI\n",
      "AOS\n",
      "APA\n",
      "AMAT\n",
      "Cluster 3\n",
      "ABT\n",
      "ABBV\n",
      "ACN\n",
      "ATVI\n",
      "ADBE\n",
      "AAP\n",
      "AFL\n",
      "A\n",
      "APD\n",
      "AKAM\n",
      "\n"
     ]
    }
   ],
   "source": [
    "print('==1==')\n",
    "print('Q:כתבו לכל קלאס 10 מניות שקוטלגו כדומות אחת לשנייה.')\n",
    "print('A: ')\n",
    "for i in range(NumOfBestCluster):\n",
    "    print('Cluster',i+1)\n",
    "    for j in (dfPart3['Stock Symbol'][dfPart3['Cluster']==i][:10]):\n",
    "        print(j)\n",
    "print()"
   ]
  },
  {
   "cell_type": "code",
   "execution_count": 68,
   "metadata": {},
   "outputs": [
    {
     "name": "stdout",
     "output_type": "stream",
     "text": [
      "==1==\n",
      "Q:מצאו 2-3 זוגות מניות שסווגו כזהות בבדיקה הראשונה ושונות בבדיקה השנייה.\n",
      "A: \n",
      "AVB-BKR\n",
      "CBOE-CE\n",
      "CINF-CFG\n",
      "RE-EXR\n",
      "HCA-PEAK\n",
      "K-KMB\n",
      "KMI-LH\n",
      "MXIM-MCK\n",
      "PFG-PG\n",
      "PGR-PWR\n"
     ]
    }
   ],
   "source": [
    "print('==1==')\n",
    "print('Q:מצאו 2-3 זוגות מניות שסווגו כזהות בבדיקה הראשונה ושונות בבדיקה השנייה.')\n",
    "print('A: ')\n",
    "clasp2=[]\n",
    "clasp3=[]\n",
    "for i in range (0,len(p2c1.to_list())-1):\n",
    "        a = p2c1.to_list()[i]+'-'+p2c1.to_list()[i+1]\n",
    "        clasp2.append(a)\n",
    "\n",
    "for i in range(0,len(p3c1.to_list())-1):\n",
    "    for j in range(0,len(p3c2.to_list())-1):\n",
    "        a = p3c1.to_list()[i]+'-'+p3c2.to_list()[j]\n",
    "        clasp3.append(a)\n",
    "\n",
    "for i in clasp2:\n",
    "    if i in clasp3:\n",
    "        print(i)"
   ]
  },
  {
   "cell_type": "code",
   "execution_count": 69,
   "metadata": {},
   "outputs": [
    {
     "data": {
      "text/html": [
       "<div>\n",
       "<style scoped>\n",
       "    .dataframe tbody tr th:only-of-type {\n",
       "        vertical-align: middle;\n",
       "    }\n",
       "\n",
       "    .dataframe tbody tr th {\n",
       "        vertical-align: top;\n",
       "    }\n",
       "\n",
       "    .dataframe thead th {\n",
       "        text-align: right;\n",
       "    }\n",
       "</style>\n",
       "<table border=\"1\" class=\"dataframe\">\n",
       "  <thead>\n",
       "    <tr style=\"text-align: right;\">\n",
       "      <th></th>\n",
       "      <th>ABT</th>\n",
       "      <th>ABBV</th>\n",
       "      <th>ABMD</th>\n",
       "      <th>ACN</th>\n",
       "      <th>ATVI</th>\n",
       "      <th>ADBE</th>\n",
       "      <th>AMD</th>\n",
       "      <th>AAP</th>\n",
       "      <th>AES</th>\n",
       "      <th>AFL</th>\n",
       "      <th>...</th>\n",
       "      <th>WYNN</th>\n",
       "      <th>XEL</th>\n",
       "      <th>XRX</th>\n",
       "      <th>XLNX</th>\n",
       "      <th>XYL</th>\n",
       "      <th>YUM</th>\n",
       "      <th>ZBRA</th>\n",
       "      <th>ZBH</th>\n",
       "      <th>ZION</th>\n",
       "      <th>ZTS</th>\n",
       "    </tr>\n",
       "    <tr>\n",
       "      <th>Date</th>\n",
       "      <th></th>\n",
       "      <th></th>\n",
       "      <th></th>\n",
       "      <th></th>\n",
       "      <th></th>\n",
       "      <th></th>\n",
       "      <th></th>\n",
       "      <th></th>\n",
       "      <th></th>\n",
       "      <th></th>\n",
       "      <th></th>\n",
       "      <th></th>\n",
       "      <th></th>\n",
       "      <th></th>\n",
       "      <th></th>\n",
       "      <th></th>\n",
       "      <th></th>\n",
       "      <th></th>\n",
       "      <th></th>\n",
       "      <th></th>\n",
       "      <th></th>\n",
       "    </tr>\n",
       "  </thead>\n",
       "  <tbody>\n",
       "    <tr>\n",
       "      <th>03/01/2019</th>\n",
       "      <td>-0.047194</td>\n",
       "      <td>-0.032949</td>\n",
       "      <td>-0.024745</td>\n",
       "      <td>-0.034142</td>\n",
       "      <td>-0.035509</td>\n",
       "      <td>-0.039498</td>\n",
       "      <td>-0.094530</td>\n",
       "      <td>0.031218</td>\n",
       "      <td>-0.000705</td>\n",
       "      <td>-0.025264</td>\n",
       "      <td>...</td>\n",
       "      <td>-0.009674</td>\n",
       "      <td>-0.003940</td>\n",
       "      <td>-0.021858</td>\n",
       "      <td>-0.037651</td>\n",
       "      <td>-0.034280</td>\n",
       "      <td>-0.025153</td>\n",
       "      <td>-0.059908</td>\n",
       "      <td>-0.018088</td>\n",
       "      <td>-0.005531</td>\n",
       "      <td>-0.034564</td>\n",
       "    </tr>\n",
       "    <tr>\n",
       "      <th>04/01/2019</th>\n",
       "      <td>0.028541</td>\n",
       "      <td>0.032217</td>\n",
       "      <td>0.036885</td>\n",
       "      <td>0.038884</td>\n",
       "      <td>0.039903</td>\n",
       "      <td>0.048632</td>\n",
       "      <td>0.114370</td>\n",
       "      <td>-0.024808</td>\n",
       "      <td>0.033169</td>\n",
       "      <td>0.012396</td>\n",
       "      <td>...</td>\n",
       "      <td>0.040333</td>\n",
       "      <td>0.009786</td>\n",
       "      <td>0.038598</td>\n",
       "      <td>0.046303</td>\n",
       "      <td>0.042192</td>\n",
       "      <td>0.026027</td>\n",
       "      <td>0.041462</td>\n",
       "      <td>0.034153</td>\n",
       "      <td>0.030713</td>\n",
       "      <td>0.039235</td>\n",
       "    </tr>\n",
       "    <tr>\n",
       "      <th>07/01/2019</th>\n",
       "      <td>0.014976</td>\n",
       "      <td>0.014595</td>\n",
       "      <td>0.004339</td>\n",
       "      <td>0.003474</td>\n",
       "      <td>0.028196</td>\n",
       "      <td>0.013573</td>\n",
       "      <td>0.082632</td>\n",
       "      <td>0.014672</td>\n",
       "      <td>0.004781</td>\n",
       "      <td>0.005343</td>\n",
       "      <td>...</td>\n",
       "      <td>0.017758</td>\n",
       "      <td>-0.004330</td>\n",
       "      <td>0.021516</td>\n",
       "      <td>0.026415</td>\n",
       "      <td>-0.014789</td>\n",
       "      <td>-0.001093</td>\n",
       "      <td>0.015166</td>\n",
       "      <td>0.000385</td>\n",
       "      <td>0.003989</td>\n",
       "      <td>0.006017</td>\n",
       "    </tr>\n",
       "    <tr>\n",
       "      <th>08/01/2019</th>\n",
       "      <td>-0.012006</td>\n",
       "      <td>0.004648</td>\n",
       "      <td>0.011499</td>\n",
       "      <td>0.025290</td>\n",
       "      <td>0.030309</td>\n",
       "      <td>0.014918</td>\n",
       "      <td>0.008751</td>\n",
       "      <td>-0.006950</td>\n",
       "      <td>0.023113</td>\n",
       "      <td>0.003100</td>\n",
       "      <td>...</td>\n",
       "      <td>0.031333</td>\n",
       "      <td>0.011596</td>\n",
       "      <td>0.033030</td>\n",
       "      <td>-0.019051</td>\n",
       "      <td>0.009401</td>\n",
       "      <td>-0.001970</td>\n",
       "      <td>0.006697</td>\n",
       "      <td>-0.022425</td>\n",
       "      <td>0.009114</td>\n",
       "      <td>0.014894</td>\n",
       "    </tr>\n",
       "    <tr>\n",
       "      <th>09/01/2019</th>\n",
       "      <td>0.016691</td>\n",
       "      <td>-0.032823</td>\n",
       "      <td>0.056466</td>\n",
       "      <td>0.005030</td>\n",
       "      <td>0.017210</td>\n",
       "      <td>0.011819</td>\n",
       "      <td>-0.026988</td>\n",
       "      <td>0.027559</td>\n",
       "      <td>-0.001993</td>\n",
       "      <td>-0.002208</td>\n",
       "      <td>...</td>\n",
       "      <td>0.013020</td>\n",
       "      <td>-0.007984</td>\n",
       "      <td>0.014365</td>\n",
       "      <td>0.008972</td>\n",
       "      <td>0.016224</td>\n",
       "      <td>-0.000439</td>\n",
       "      <td>0.024819</td>\n",
       "      <td>0.008172</td>\n",
       "      <td>0.008569</td>\n",
       "      <td>-0.003582</td>\n",
       "    </tr>\n",
       "    <tr>\n",
       "      <th>...</th>\n",
       "      <td>...</td>\n",
       "      <td>...</td>\n",
       "      <td>...</td>\n",
       "      <td>...</td>\n",
       "      <td>...</td>\n",
       "      <td>...</td>\n",
       "      <td>...</td>\n",
       "      <td>...</td>\n",
       "      <td>...</td>\n",
       "      <td>...</td>\n",
       "      <td>...</td>\n",
       "      <td>...</td>\n",
       "      <td>...</td>\n",
       "      <td>...</td>\n",
       "      <td>...</td>\n",
       "      <td>...</td>\n",
       "      <td>...</td>\n",
       "      <td>...</td>\n",
       "      <td>...</td>\n",
       "      <td>...</td>\n",
       "      <td>...</td>\n",
       "    </tr>\n",
       "    <tr>\n",
       "      <th>24/12/2019</th>\n",
       "      <td>-0.000801</td>\n",
       "      <td>-0.004432</td>\n",
       "      <td>0.010913</td>\n",
       "      <td>0.003700</td>\n",
       "      <td>-0.001358</td>\n",
       "      <td>0.002098</td>\n",
       "      <td>0.023757</td>\n",
       "      <td>0.003751</td>\n",
       "      <td>-0.003027</td>\n",
       "      <td>0.004187</td>\n",
       "      <td>...</td>\n",
       "      <td>-0.005634</td>\n",
       "      <td>0.003913</td>\n",
       "      <td>0.000536</td>\n",
       "      <td>-0.004146</td>\n",
       "      <td>-0.003927</td>\n",
       "      <td>0.005210</td>\n",
       "      <td>-0.009348</td>\n",
       "      <td>-0.002447</td>\n",
       "      <td>0.003701</td>\n",
       "      <td>0.004155</td>\n",
       "    </tr>\n",
       "    <tr>\n",
       "      <th>26/12/2019</th>\n",
       "      <td>0.000000</td>\n",
       "      <td>-0.000223</td>\n",
       "      <td>-0.007487</td>\n",
       "      <td>0.002079</td>\n",
       "      <td>0.001360</td>\n",
       "      <td>0.004732</td>\n",
       "      <td>0.001934</td>\n",
       "      <td>-0.008096</td>\n",
       "      <td>0.008603</td>\n",
       "      <td>-0.002654</td>\n",
       "      <td>...</td>\n",
       "      <td>0.010757</td>\n",
       "      <td>-0.001114</td>\n",
       "      <td>0.002944</td>\n",
       "      <td>0.001929</td>\n",
       "      <td>-0.000509</td>\n",
       "      <td>0.014552</td>\n",
       "      <td>0.000354</td>\n",
       "      <td>-0.002191</td>\n",
       "      <td>0.002523</td>\n",
       "      <td>0.000827</td>\n",
       "    </tr>\n",
       "    <tr>\n",
       "      <th>27/12/2019</th>\n",
       "      <td>0.001375</td>\n",
       "      <td>-0.007013</td>\n",
       "      <td>-0.010175</td>\n",
       "      <td>0.000802</td>\n",
       "      <td>0.005094</td>\n",
       "      <td>-0.001238</td>\n",
       "      <td>-0.009650</td>\n",
       "      <td>-0.005776</td>\n",
       "      <td>0.002509</td>\n",
       "      <td>0.000000</td>\n",
       "      <td>...</td>\n",
       "      <td>-0.008018</td>\n",
       "      <td>0.005256</td>\n",
       "      <td>-0.004536</td>\n",
       "      <td>-0.002635</td>\n",
       "      <td>0.003053</td>\n",
       "      <td>0.001081</td>\n",
       "      <td>0.006210</td>\n",
       "      <td>-0.001930</td>\n",
       "      <td>-0.003097</td>\n",
       "      <td>0.001654</td>\n",
       "    </tr>\n",
       "    <tr>\n",
       "      <th>30/12/2019</th>\n",
       "      <td>-0.006865</td>\n",
       "      <td>-0.007623</td>\n",
       "      <td>-0.011697</td>\n",
       "      <td>-0.007445</td>\n",
       "      <td>-0.005237</td>\n",
       "      <td>-0.007407</td>\n",
       "      <td>-0.014292</td>\n",
       "      <td>0.004863</td>\n",
       "      <td>0.003003</td>\n",
       "      <td>0.002281</td>\n",
       "      <td>...</td>\n",
       "      <td>-0.003075</td>\n",
       "      <td>0.002693</td>\n",
       "      <td>-0.004317</td>\n",
       "      <td>-0.007519</td>\n",
       "      <td>-0.001268</td>\n",
       "      <td>-0.012365</td>\n",
       "      <td>-0.007383</td>\n",
       "      <td>-0.008399</td>\n",
       "      <td>0.005243</td>\n",
       "      <td>-0.007805</td>\n",
       "    </tr>\n",
       "    <tr>\n",
       "      <th>31/12/2019</th>\n",
       "      <td>0.000691</td>\n",
       "      <td>0.000226</td>\n",
       "      <td>0.019726</td>\n",
       "      <td>-0.000332</td>\n",
       "      <td>0.009171</td>\n",
       "      <td>0.004477</td>\n",
       "      <td>0.007469</td>\n",
       "      <td>0.006536</td>\n",
       "      <td>-0.006986</td>\n",
       "      <td>0.003034</td>\n",
       "      <td>...</td>\n",
       "      <td>-0.003659</td>\n",
       "      <td>0.003160</td>\n",
       "      <td>-0.000813</td>\n",
       "      <td>0.000921</td>\n",
       "      <td>0.000635</td>\n",
       "      <td>0.000894</td>\n",
       "      <td>0.005234</td>\n",
       "      <td>0.006252</td>\n",
       "      <td>0.002897</td>\n",
       "      <td>0.001059</td>\n",
       "    </tr>\n",
       "  </tbody>\n",
       "</table>\n",
       "<p>251 rows × 493 columns</p>\n",
       "</div>"
      ],
      "text/plain": [
       "                 ABT      ABBV      ABMD       ACN      ATVI      ADBE  \\\n",
       "Date                                                                     \n",
       "03/01/2019 -0.047194 -0.032949 -0.024745 -0.034142 -0.035509 -0.039498   \n",
       "04/01/2019  0.028541  0.032217  0.036885  0.038884  0.039903  0.048632   \n",
       "07/01/2019  0.014976  0.014595  0.004339  0.003474  0.028196  0.013573   \n",
       "08/01/2019 -0.012006  0.004648  0.011499  0.025290  0.030309  0.014918   \n",
       "09/01/2019  0.016691 -0.032823  0.056466  0.005030  0.017210  0.011819   \n",
       "...              ...       ...       ...       ...       ...       ...   \n",
       "24/12/2019 -0.000801 -0.004432  0.010913  0.003700 -0.001358  0.002098   \n",
       "26/12/2019  0.000000 -0.000223 -0.007487  0.002079  0.001360  0.004732   \n",
       "27/12/2019  0.001375 -0.007013 -0.010175  0.000802  0.005094 -0.001238   \n",
       "30/12/2019 -0.006865 -0.007623 -0.011697 -0.007445 -0.005237 -0.007407   \n",
       "31/12/2019  0.000691  0.000226  0.019726 -0.000332  0.009171  0.004477   \n",
       "\n",
       "                 AMD       AAP       AES       AFL  ...      WYNN       XEL  \\\n",
       "Date                                                ...                       \n",
       "03/01/2019 -0.094530  0.031218 -0.000705 -0.025264  ... -0.009674 -0.003940   \n",
       "04/01/2019  0.114370 -0.024808  0.033169  0.012396  ...  0.040333  0.009786   \n",
       "07/01/2019  0.082632  0.014672  0.004781  0.005343  ...  0.017758 -0.004330   \n",
       "08/01/2019  0.008751 -0.006950  0.023113  0.003100  ...  0.031333  0.011596   \n",
       "09/01/2019 -0.026988  0.027559 -0.001993 -0.002208  ...  0.013020 -0.007984   \n",
       "...              ...       ...       ...       ...  ...       ...       ...   \n",
       "24/12/2019  0.023757  0.003751 -0.003027  0.004187  ... -0.005634  0.003913   \n",
       "26/12/2019  0.001934 -0.008096  0.008603 -0.002654  ...  0.010757 -0.001114   \n",
       "27/12/2019 -0.009650 -0.005776  0.002509  0.000000  ... -0.008018  0.005256   \n",
       "30/12/2019 -0.014292  0.004863  0.003003  0.002281  ... -0.003075  0.002693   \n",
       "31/12/2019  0.007469  0.006536 -0.006986  0.003034  ... -0.003659  0.003160   \n",
       "\n",
       "                 XRX      XLNX       XYL       YUM      ZBRA       ZBH  \\\n",
       "Date                                                                     \n",
       "03/01/2019 -0.021858 -0.037651 -0.034280 -0.025153 -0.059908 -0.018088   \n",
       "04/01/2019  0.038598  0.046303  0.042192  0.026027  0.041462  0.034153   \n",
       "07/01/2019  0.021516  0.026415 -0.014789 -0.001093  0.015166  0.000385   \n",
       "08/01/2019  0.033030 -0.019051  0.009401 -0.001970  0.006697 -0.022425   \n",
       "09/01/2019  0.014365  0.008972  0.016224 -0.000439  0.024819  0.008172   \n",
       "...              ...       ...       ...       ...       ...       ...   \n",
       "24/12/2019  0.000536 -0.004146 -0.003927  0.005210 -0.009348 -0.002447   \n",
       "26/12/2019  0.002944  0.001929 -0.000509  0.014552  0.000354 -0.002191   \n",
       "27/12/2019 -0.004536 -0.002635  0.003053  0.001081  0.006210 -0.001930   \n",
       "30/12/2019 -0.004317 -0.007519 -0.001268 -0.012365 -0.007383 -0.008399   \n",
       "31/12/2019 -0.000813  0.000921  0.000635  0.000894  0.005234  0.006252   \n",
       "\n",
       "                ZION       ZTS  \n",
       "Date                            \n",
       "03/01/2019 -0.005531 -0.034564  \n",
       "04/01/2019  0.030713  0.039235  \n",
       "07/01/2019  0.003989  0.006017  \n",
       "08/01/2019  0.009114  0.014894  \n",
       "09/01/2019  0.008569 -0.003582  \n",
       "...              ...       ...  \n",
       "24/12/2019  0.003701  0.004155  \n",
       "26/12/2019  0.002523  0.000827  \n",
       "27/12/2019 -0.003097  0.001654  \n",
       "30/12/2019  0.005243 -0.007805  \n",
       "31/12/2019  0.002897  0.001059  \n",
       "\n",
       "[251 rows x 493 columns]"
      ]
     },
     "execution_count": 69,
     "metadata": {},
     "output_type": "execute_result"
    }
   ],
   "source": [
    "data"
   ]
  },
  {
   "cell_type": "code",
   "execution_count": 70,
   "metadata": {},
   "outputs": [
    {
     "data": {
      "text/html": [
       "<div>\n",
       "<style scoped>\n",
       "    .dataframe tbody tr th:only-of-type {\n",
       "        vertical-align: middle;\n",
       "    }\n",
       "\n",
       "    .dataframe tbody tr th {\n",
       "        vertical-align: top;\n",
       "    }\n",
       "\n",
       "    .dataframe thead th {\n",
       "        text-align: right;\n",
       "    }\n",
       "</style>\n",
       "<table border=\"1\" class=\"dataframe\">\n",
       "  <thead>\n",
       "    <tr style=\"text-align: right;\">\n",
       "      <th></th>\n",
       "      <th>Dimension 1</th>\n",
       "      <th>Dimension 2</th>\n",
       "    </tr>\n",
       "  </thead>\n",
       "  <tbody>\n",
       "    <tr>\n",
       "      <th>0</th>\n",
       "      <td>-0.515944</td>\n",
       "      <td>0.161203</td>\n",
       "    </tr>\n",
       "    <tr>\n",
       "      <th>1</th>\n",
       "      <td>0.749055</td>\n",
       "      <td>-0.140935</td>\n",
       "    </tr>\n",
       "    <tr>\n",
       "      <th>2</th>\n",
       "      <td>0.249184</td>\n",
       "      <td>-0.002840</td>\n",
       "    </tr>\n",
       "    <tr>\n",
       "      <th>3</th>\n",
       "      <td>0.183631</td>\n",
       "      <td>-0.074935</td>\n",
       "    </tr>\n",
       "    <tr>\n",
       "      <th>4</th>\n",
       "      <td>0.187599</td>\n",
       "      <td>0.047704</td>\n",
       "    </tr>\n",
       "  </tbody>\n",
       "</table>\n",
       "</div>"
      ],
      "text/plain": [
       "   Dimension 1  Dimension 2\n",
       "0    -0.515944     0.161203\n",
       "1     0.749055    -0.140935\n",
       "2     0.249184    -0.002840\n",
       "3     0.183631    -0.074935\n",
       "4     0.187599     0.047704"
      ]
     },
     "execution_count": 70,
     "metadata": {},
     "output_type": "execute_result"
    }
   ],
   "source": [
    "##להוסיף pca ולהוריד כמות מימדים ל2 \n",
    "##להדפיס גרף נקודות דו מימדי\n",
    "##הסבר על סיווג המניות\n",
    "#import visuals as vs\n",
    "from sklearn.decomposition import PCA\n",
    "pca = PCA(n_components=2).fit(data)\n",
    "reduced_data = pca.transform(data) \n",
    "reduced_data1 = pd.DataFrame(reduced_data,columns=['Dimension 1', 'Dimension 2'])\n",
    "reduced_data1.head()"
   ]
  },
  {
   "cell_type": "code",
   "execution_count": 71,
   "metadata": {},
   "outputs": [
    {
     "data": {
      "text/plain": [
       "<matplotlib.collections.PathCollection at 0x267ce323c08>"
      ]
     },
     "execution_count": 71,
     "metadata": {},
     "output_type": "execute_result"
    },
    {
     "data": {
      "image/png": "[encoded data removed]",
      "text/plain": [
       "<Figure size 432x288 with 1 Axes>"
      ]
     },
     "metadata": {},
     "output_type": "display_data"
    }
   ],
   "source": [
    "plt.scatter(reduced_data[:,0],reduced_data[:,1],cmap='coolwarm')"
   ]
  },
  {
   "cell_type": "code",
   "execution_count": 72,
   "metadata": {},
   "outputs": [
    {
     "data": {
      "text/plain": [
       "[<matplotlib.lines.Line2D at 0x267ce31ee08>]"
      ]
     },
     "execution_count": 72,
     "metadata": {},
     "output_type": "execute_result"
    },
    {
     "data": {
      "image/png": "[encoded data removed]",
      "text/plain": [
       "<Figure size 432x288 with 1 Axes>"
      ]
     },
     "metadata": {},
     "output_type": "display_data"
    }
   ],
   "source": [
    "plot(reduced_data1['Dimension 1'],reduced_data1['Dimension 2'],'ro')"
   ]
  },
  {
   "cell_type": "code",
   "execution_count": 73,
   "metadata": {},
   "outputs": [
    {
     "data": {
      "text/html": [
       "<div>\n",
       "<style scoped>\n",
       "    .dataframe tbody tr th:only-of-type {\n",
       "        vertical-align: middle;\n",
       "    }\n",
       "\n",
       "    .dataframe tbody tr th {\n",
       "        vertical-align: top;\n",
       "    }\n",
       "\n",
       "    .dataframe thead th {\n",
       "        text-align: right;\n",
       "    }\n",
       "</style>\n",
       "<table border=\"1\" class=\"dataframe\">\n",
       "  <thead>\n",
       "    <tr style=\"text-align: right;\">\n",
       "      <th></th>\n",
       "      <th>Dimension 1</th>\n",
       "      <th>Dimension 2</th>\n",
       "      <th>Dimension 3</th>\n",
       "    </tr>\n",
       "  </thead>\n",
       "  <tbody>\n",
       "    <tr>\n",
       "      <th>0</th>\n",
       "      <td>-0.515944</td>\n",
       "      <td>0.161203</td>\n",
       "      <td>-0.179946</td>\n",
       "    </tr>\n",
       "    <tr>\n",
       "      <th>1</th>\n",
       "      <td>0.749055</td>\n",
       "      <td>-0.140935</td>\n",
       "      <td>-0.014517</td>\n",
       "    </tr>\n",
       "    <tr>\n",
       "      <th>2</th>\n",
       "      <td>0.249184</td>\n",
       "      <td>-0.002840</td>\n",
       "      <td>0.026274</td>\n",
       "    </tr>\n",
       "    <tr>\n",
       "      <th>3</th>\n",
       "      <td>0.183631</td>\n",
       "      <td>-0.074935</td>\n",
       "      <td>-0.099492</td>\n",
       "    </tr>\n",
       "    <tr>\n",
       "      <th>4</th>\n",
       "      <td>0.187599</td>\n",
       "      <td>0.047704</td>\n",
       "      <td>0.087152</td>\n",
       "    </tr>\n",
       "  </tbody>\n",
       "</table>\n",
       "</div>"
      ],
      "text/plain": [
       "   Dimension 1  Dimension 2  Dimension 3\n",
       "0    -0.515944     0.161203    -0.179946\n",
       "1     0.749055    -0.140935    -0.014517\n",
       "2     0.249184    -0.002840     0.026274\n",
       "3     0.183631    -0.074935    -0.099492\n",
       "4     0.187599     0.047704     0.087152"
      ]
     },
     "execution_count": 73,
     "metadata": {},
     "output_type": "execute_result"
    }
   ],
   "source": [
    "##להוריד את כמות המימדים ל3 ולהדפיס גרף תלת מימד\n",
    "#import visuals as vs\n",
    "from sklearn.decomposition import PCA\n",
    "pca = PCA(n_components=3).fit(data)\n",
    "reduced_data = pca.transform(data) \n",
    "reduced_data = pd.DataFrame(reduced_data,columns=['Dimension 1', 'Dimension 2','Dimension 3'])\n",
    "reduced_data.head()"
   ]
  },
  {
   "cell_type": "code",
   "execution_count": 74,
   "metadata": {},
   "outputs": [
    {
     "data": {
      "image/png": "[encoded data removed]",
      "text/plain": [
       "<Figure size 432x288 with 1 Axes>"
      ]
     },
     "metadata": {},
     "output_type": "display_data"
    }
   ],
   "source": [
    "from mpl_toolkits import mplot3d\n",
    "fig = plt.figure()\n",
    "ax = plt.axes(projection='3d')\n",
    "# Data for three-dimensional scattered points\n",
    "zdata = reduced_data['Dimension 1']\n",
    "xdata = reduced_data['Dimension 2']\n",
    "ydata = reduced_data['Dimension 3']\n",
    "ax.set_xlabel('X Label')\n",
    "ax.set_ylabel('Y Label')\n",
    "ax.set_zlabel('Z Label')\n",
    "ax.scatter3D(xdata, ydata, zdata, c=zdata, cmap='Greens');"
   ]
  },
  {
   "cell_type": "markdown",
   "metadata": {},
   "source": [
    "# part4"
   ]
  },
  {
   "cell_type": "code",
   "execution_count": 75,
   "metadata": {},
   "outputs": [
    {
     "data": {
      "text/html": [
       "<div>\n",
       "<style scoped>\n",
       "    .dataframe tbody tr th:only-of-type {\n",
       "        vertical-align: middle;\n",
       "    }\n",
       "\n",
       "    .dataframe tbody tr th {\n",
       "        vertical-align: top;\n",
       "    }\n",
       "\n",
       "    .dataframe thead th {\n",
       "        text-align: right;\n",
       "    }\n",
       "</style>\n",
       "<table border=\"1\" class=\"dataframe\">\n",
       "  <thead>\n",
       "    <tr style=\"text-align: right;\">\n",
       "      <th>Date</th>\n",
       "      <th>2020-03-20</th>\n",
       "      <th>2020-03-23</th>\n",
       "      <th>2020-03-24</th>\n",
       "      <th>2020-03-25</th>\n",
       "      <th>2020-03-26</th>\n",
       "      <th>2020-03-27</th>\n",
       "      <th>2020-03-30</th>\n",
       "      <th>2020-03-31</th>\n",
       "      <th>2020-04-01</th>\n",
       "      <th>2020-04-02</th>\n",
       "      <th>...</th>\n",
       "      <th>2020-05-18</th>\n",
       "      <th>2020-05-19</th>\n",
       "      <th>2020-05-20</th>\n",
       "      <th>2020-05-21</th>\n",
       "      <th>2020-05-22</th>\n",
       "      <th>2020-05-26</th>\n",
       "      <th>2020-05-27</th>\n",
       "      <th>2020-05-28</th>\n",
       "      <th>2020-05-29</th>\n",
       "      <th>2020-06-01</th>\n",
       "    </tr>\n",
       "  </thead>\n",
       "  <tbody>\n",
       "    <tr>\n",
       "      <th>ABT</th>\n",
       "      <td>-0.087248</td>\n",
       "      <td>-0.076176</td>\n",
       "      <td>0.109360</td>\n",
       "      <td>0.015210</td>\n",
       "      <td>0.071519</td>\n",
       "      <td>-0.016489</td>\n",
       "      <td>0.064109</td>\n",
       "      <td>-0.005420</td>\n",
       "      <td>-0.029654</td>\n",
       "      <td>0.037482</td>\n",
       "      <td>...</td>\n",
       "      <td>0.004227</td>\n",
       "      <td>-0.022710</td>\n",
       "      <td>0.021197</td>\n",
       "      <td>0.003330</td>\n",
       "      <td>0.011948</td>\n",
       "      <td>-0.021756</td>\n",
       "      <td>0.014305</td>\n",
       "      <td>0.014764</td>\n",
       "      <td>0.030619</td>\n",
       "      <td>-0.020122</td>\n",
       "    </tr>\n",
       "    <tr>\n",
       "      <th>ABBV</th>\n",
       "      <td>-0.031523</td>\n",
       "      <td>-0.062772</td>\n",
       "      <td>0.046356</td>\n",
       "      <td>0.006223</td>\n",
       "      <td>0.087174</td>\n",
       "      <td>-0.015712</td>\n",
       "      <td>0.035365</td>\n",
       "      <td>0.012626</td>\n",
       "      <td>-0.036357</td>\n",
       "      <td>0.023291</td>\n",
       "      <td>...</td>\n",
       "      <td>0.008378</td>\n",
       "      <td>-0.002952</td>\n",
       "      <td>-0.000110</td>\n",
       "      <td>0.020068</td>\n",
       "      <td>-0.009890</td>\n",
       "      <td>-0.015092</td>\n",
       "      <td>-0.008048</td>\n",
       "      <td>0.000556</td>\n",
       "      <td>0.029324</td>\n",
       "      <td>-0.021258</td>\n",
       "    </tr>\n",
       "    <tr>\n",
       "      <th>ABMD</th>\n",
       "      <td>-0.071169</td>\n",
       "      <td>0.014022</td>\n",
       "      <td>0.085613</td>\n",
       "      <td>0.022412</td>\n",
       "      <td>0.015522</td>\n",
       "      <td>-0.026346</td>\n",
       "      <td>0.025819</td>\n",
       "      <td>-0.025706</td>\n",
       "      <td>-0.004685</td>\n",
       "      <td>-0.008306</td>\n",
       "      <td>...</td>\n",
       "      <td>0.033149</td>\n",
       "      <td>-0.001361</td>\n",
       "      <td>0.029194</td>\n",
       "      <td>-0.000204</td>\n",
       "      <td>0.050122</td>\n",
       "      <td>0.014164</td>\n",
       "      <td>-0.006313</td>\n",
       "      <td>0.046207</td>\n",
       "      <td>0.030088</td>\n",
       "      <td>0.010004</td>\n",
       "    </tr>\n",
       "    <tr>\n",
       "      <th>ACN</th>\n",
       "      <td>-0.054006</td>\n",
       "      <td>-0.041683</td>\n",
       "      <td>0.091586</td>\n",
       "      <td>-0.032069</td>\n",
       "      <td>0.128573</td>\n",
       "      <td>-0.049375</td>\n",
       "      <td>0.042608</td>\n",
       "      <td>-0.038629</td>\n",
       "      <td>-0.052554</td>\n",
       "      <td>0.010279</td>\n",
       "      <td>...</td>\n",
       "      <td>0.048238</td>\n",
       "      <td>-0.013800</td>\n",
       "      <td>0.026777</td>\n",
       "      <td>-0.008607</td>\n",
       "      <td>0.001085</td>\n",
       "      <td>0.013887</td>\n",
       "      <td>0.017974</td>\n",
       "      <td>0.008703</td>\n",
       "      <td>-0.000248</td>\n",
       "      <td>0.008729</td>\n",
       "    </tr>\n",
       "    <tr>\n",
       "      <th>ATVI</th>\n",
       "      <td>-0.038426</td>\n",
       "      <td>0.084918</td>\n",
       "      <td>-0.036125</td>\n",
       "      <td>-0.028661</td>\n",
       "      <td>0.091734</td>\n",
       "      <td>-0.013167</td>\n",
       "      <td>0.026510</td>\n",
       "      <td>0.017274</td>\n",
       "      <td>-0.033289</td>\n",
       "      <td>0.057043</td>\n",
       "      <td>...</td>\n",
       "      <td>-0.014069</td>\n",
       "      <td>0.002058</td>\n",
       "      <td>0.010270</td>\n",
       "      <td>-0.017755</td>\n",
       "      <td>0.008417</td>\n",
       "      <td>-0.042146</td>\n",
       "      <td>0.002143</td>\n",
       "      <td>0.000998</td>\n",
       "      <td>0.025064</td>\n",
       "      <td>0.014032</td>\n",
       "    </tr>\n",
       "  </tbody>\n",
       "</table>\n",
       "<p>5 rows × 50 columns</p>\n",
       "</div>"
      ],
      "text/plain": [
       "Date  2020-03-20  2020-03-23  2020-03-24  2020-03-25  2020-03-26  2020-03-27  \\\n",
       "ABT    -0.087248   -0.076176    0.109360    0.015210    0.071519   -0.016489   \n",
       "ABBV   -0.031523   -0.062772    0.046356    0.006223    0.087174   -0.015712   \n",
       "ABMD   -0.071169    0.014022    0.085613    0.022412    0.015522   -0.026346   \n",
       "ACN    -0.054006   -0.041683    0.091586   -0.032069    0.128573   -0.049375   \n",
       "ATVI   -0.038426    0.084918   -0.036125   -0.028661    0.091734   -0.013167   \n",
       "\n",
       "Date  2020-03-30  2020-03-31  2020-04-01  2020-04-02  ...  2020-05-18  \\\n",
       "ABT     0.064109   -0.005420   -0.029654    0.037482  ...    0.004227   \n",
       "ABBV    0.035365    0.012626   -0.036357    0.023291  ...    0.008378   \n",
       "ABMD    0.025819   -0.025706   -0.004685   -0.008306  ...    0.033149   \n",
       "ACN     0.042608   -0.038629   -0.052554    0.010279  ...    0.048238   \n",
       "ATVI    0.026510    0.017274   -0.033289    0.057043  ...   -0.014069   \n",
       "\n",
       "Date  2020-05-19  2020-05-20  2020-05-21  2020-05-22  2020-05-26  2020-05-27  \\\n",
       "ABT    -0.022710    0.021197    0.003330    0.011948   -0.021756    0.014305   \n",
       "ABBV   -0.002952   -0.000110    0.020068   -0.009890   -0.015092   -0.008048   \n",
       "ABMD   -0.001361    0.029194   -0.000204    0.050122    0.014164   -0.006313   \n",
       "ACN    -0.013800    0.026777   -0.008607    0.001085    0.013887    0.017974   \n",
       "ATVI    0.002058    0.010270   -0.017755    0.008417   -0.042146    0.002143   \n",
       "\n",
       "Date  2020-05-28  2020-05-29  2020-06-01  \n",
       "ABT     0.014764    0.030619   -0.020122  \n",
       "ABBV    0.000556    0.029324   -0.021258  \n",
       "ABMD    0.046207    0.030088    0.010004  \n",
       "ACN     0.008703   -0.000248    0.008729  \n",
       "ATVI    0.000998    0.025064    0.014032  \n",
       "\n",
       "[5 rows x 50 columns]"
      ]
     },
     "execution_count": 75,
     "metadata": {},
     "output_type": "execute_result"
    }
   ],
   "source": [
    "data20 = pd.read_csv('Prices_df_2020.csv').set_index('Date')\n",
    "data20 = data20.pct_change()\n",
    "data20 = data20.dropna()\n",
    "data20 = data20.T\n",
    "data20.head()"
   ]
  },
  {
   "cell_type": "code",
   "execution_count": 76,
   "metadata": {},
   "outputs": [
    {
     "data": {
      "image/png": "[encoded data removed]",
      "text/plain": [
       "<Figure size 432x288 with 1 Axes>"
      ]
     },
     "metadata": {},
     "output_type": "display_data"
    }
   ],
   "source": [
    "dendrogram = sch.dendrogram(sch.linkage(data20,method='ward'))"
   ]
  },
  {
   "cell_type": "code",
   "execution_count": 77,
   "metadata": {},
   "outputs": [
    {
     "data": {
      "text/html": [
       "<div>\n",
       "<style scoped>\n",
       "    .dataframe tbody tr th:only-of-type {\n",
       "        vertical-align: middle;\n",
       "    }\n",
       "\n",
       "    .dataframe tbody tr th {\n",
       "        vertical-align: top;\n",
       "    }\n",
       "\n",
       "    .dataframe thead th {\n",
       "        text-align: right;\n",
       "    }\n",
       "</style>\n",
       "<table border=\"1\" class=\"dataframe\">\n",
       "  <thead>\n",
       "    <tr style=\"text-align: right;\">\n",
       "      <th></th>\n",
       "      <th>Stock Symbol</th>\n",
       "      <th>Cluster</th>\n",
       "    </tr>\n",
       "  </thead>\n",
       "  <tbody>\n",
       "    <tr>\n",
       "      <th>0</th>\n",
       "      <td>ABT</td>\n",
       "      <td>1</td>\n",
       "    </tr>\n",
       "    <tr>\n",
       "      <th>1</th>\n",
       "      <td>ABBV</td>\n",
       "      <td>1</td>\n",
       "    </tr>\n",
       "    <tr>\n",
       "      <th>2</th>\n",
       "      <td>ABMD</td>\n",
       "      <td>1</td>\n",
       "    </tr>\n",
       "    <tr>\n",
       "      <th>3</th>\n",
       "      <td>ACN</td>\n",
       "      <td>1</td>\n",
       "    </tr>\n",
       "    <tr>\n",
       "      <th>4</th>\n",
       "      <td>ATVI</td>\n",
       "      <td>1</td>\n",
       "    </tr>\n",
       "    <tr>\n",
       "      <th>...</th>\n",
       "      <td>...</td>\n",
       "      <td>...</td>\n",
       "    </tr>\n",
       "    <tr>\n",
       "      <th>497</th>\n",
       "      <td>YUM</td>\n",
       "      <td>1</td>\n",
       "    </tr>\n",
       "    <tr>\n",
       "      <th>498</th>\n",
       "      <td>ZBRA</td>\n",
       "      <td>1</td>\n",
       "    </tr>\n",
       "    <tr>\n",
       "      <th>499</th>\n",
       "      <td>ZBH</td>\n",
       "      <td>0</td>\n",
       "    </tr>\n",
       "    <tr>\n",
       "      <th>500</th>\n",
       "      <td>ZION</td>\n",
       "      <td>0</td>\n",
       "    </tr>\n",
       "    <tr>\n",
       "      <th>501</th>\n",
       "      <td>ZTS</td>\n",
       "      <td>1</td>\n",
       "    </tr>\n",
       "  </tbody>\n",
       "</table>\n",
       "<p>502 rows × 2 columns</p>\n",
       "</div>"
      ],
      "text/plain": [
       "    Stock Symbol  Cluster\n",
       "0            ABT        1\n",
       "1           ABBV        1\n",
       "2           ABMD        1\n",
       "3            ACN        1\n",
       "4           ATVI        1\n",
       "..           ...      ...\n",
       "497          YUM        1\n",
       "498         ZBRA        1\n",
       "499          ZBH        0\n",
       "500         ZION        0\n",
       "501          ZTS        1\n",
       "\n",
       "[502 rows x 2 columns]"
      ]
     },
     "execution_count": 77,
     "metadata": {},
     "output_type": "execute_result"
    }
   ],
   "source": [
    "hc = AgglomerativeClustering(n_clusters = 2, affinity = 'euclidean', linkage = 'ward')\n",
    "centroids,_ = kmeans(data20,2)\n",
    "idx,_ = vq(data20,centroids)\n",
    "details = [(name,cluster) for name, cluster in zip(data20.index,idx)]\n",
    "labels =['Stock Symbol', 'Cluster']\n",
    "dfPart4 = pd.DataFrame.from_records(details, columns=labels)\n",
    "dfPart4"
   ]
  },
  {
   "cell_type": "code",
   "execution_count": 78,
   "metadata": {},
   "outputs": [],
   "source": [
    "p4c1 = dfPart4['Stock Symbol'][dfPart4['Cluster']==0]\n",
    "p4c2 = dfPart4['Stock Symbol'][dfPart4['Cluster']==1]\n",
    "p4c3 = dfPart4['Stock Symbol'][dfPart4['Cluster']==2]"
   ]
  },
  {
   "cell_type": "code",
   "execution_count": 79,
   "metadata": {},
   "outputs": [
    {
     "data": {
      "text/html": [
       "<div>\n",
       "<style scoped>\n",
       "    .dataframe tbody tr th:only-of-type {\n",
       "        vertical-align: middle;\n",
       "    }\n",
       "\n",
       "    .dataframe tbody tr th {\n",
       "        vertical-align: top;\n",
       "    }\n",
       "\n",
       "    .dataframe thead th {\n",
       "        text-align: right;\n",
       "    }\n",
       "</style>\n",
       "<table border=\"1\" class=\"dataframe\">\n",
       "  <thead>\n",
       "    <tr style=\"text-align: right;\">\n",
       "      <th></th>\n",
       "      <th>Dimension 1</th>\n",
       "      <th>Dimension 2</th>\n",
       "    </tr>\n",
       "  </thead>\n",
       "  <tbody>\n",
       "    <tr>\n",
       "      <th>0</th>\n",
       "      <td>-0.155426</td>\n",
       "      <td>-0.039508</td>\n",
       "    </tr>\n",
       "    <tr>\n",
       "      <th>1</th>\n",
       "      <td>-0.157250</td>\n",
       "      <td>0.011685</td>\n",
       "    </tr>\n",
       "    <tr>\n",
       "      <th>2</th>\n",
       "      <td>-0.109873</td>\n",
       "      <td>0.040801</td>\n",
       "    </tr>\n",
       "    <tr>\n",
       "      <th>3</th>\n",
       "      <td>-0.053575</td>\n",
       "      <td>-0.003791</td>\n",
       "    </tr>\n",
       "    <tr>\n",
       "      <th>4</th>\n",
       "      <td>-0.255366</td>\n",
       "      <td>0.123408</td>\n",
       "    </tr>\n",
       "  </tbody>\n",
       "</table>\n",
       "</div>"
      ],
      "text/plain": [
       "   Dimension 1  Dimension 2\n",
       "0    -0.155426    -0.039508\n",
       "1    -0.157250     0.011685\n",
       "2    -0.109873     0.040801\n",
       "3    -0.053575    -0.003791\n",
       "4    -0.255366     0.123408"
      ]
     },
     "execution_count": 79,
     "metadata": {},
     "output_type": "execute_result"
    }
   ],
   "source": [
    "pca = PCA(n_components=2).fit(data20)\n",
    "reduced_data = pca.transform(data20) \n",
    "reduced_data = pd.DataFrame(reduced_data,columns=['Dimension 1', 'Dimension 2'])\n",
    "reduced_data.head()"
   ]
  },
  {
   "cell_type": "code",
   "execution_count": 80,
   "metadata": {},
   "outputs": [
    {
     "data": {
      "text/plain": [
       "[<matplotlib.lines.Line2D at 0x267cdc02e88>]"
      ]
     },
     "execution_count": 80,
     "metadata": {},
     "output_type": "execute_result"
    },
    {
     "data": {
      "image/png": "[encoded data removed]",
      "text/plain": [
       "<Figure size 432x288 with 1 Axes>"
      ]
     },
     "metadata": {},
     "output_type": "display_data"
    }
   ],
   "source": [
    "plot(reduced_data['Dimension 1'],reduced_data['Dimension 2'],'ro')"
   ]
  },
  {
   "cell_type": "code",
   "execution_count": 81,
   "metadata": {},
   "outputs": [
    {
     "data": {
      "image/png": "[encoded data removed]",
      "text/plain": [
       "<Figure size 432x288 with 1 Axes>"
      ]
     },
     "metadata": {},
     "output_type": "display_data"
    }
   ],
   "source": [
    "pca = PCA(n_components=3).fit(data20)\n",
    "reduced_data = pca.transform(data20) \n",
    "reduced_data = pd.DataFrame(reduced_data,columns=['Dimension 1', 'Dimension 2','Dimension 3'])\n",
    "reduced_data.head()\n",
    "fig = plt.figure()\n",
    "ax = plt.axes(projection='3d')\n",
    "# Data for three-dimensional scattered points\n",
    "zdata = reduced_data['Dimension 1']\n",
    "xdata = reduced_data['Dimension 2']\n",
    "ydata = reduced_data['Dimension 3']\n",
    "ax.scatter3D(xdata, ydata, zdata, c=zdata, cmap='Greens');"
   ]
  },
  {
   "cell_type": "code",
   "execution_count": 82,
   "metadata": {},
   "outputs": [
    {
     "name": "stdout",
     "output_type": "stream",
     "text": [
      "==1==\n",
      "Q:מצאו 2-3 זוגות מניות שסווגו כזהות בבדיקה הראשונה ושונות בבדיקה השנייה.\n",
      "A: \n",
      "AES-ARE\n",
      "AIV-ATO\n",
      "BXP-CPB\n",
      "CNP-CMG\n",
      "COTY-CVS\n",
      "FANG-DLTR\n",
      "DTE-ECL\n",
      "EMR-EFX\n",
      "FITB-IT\n",
      "HCA-HOLX\n",
      "IVZ-JKHY\n",
      "JPM-K\n",
      "KMI-KHC\n",
      "MTB-MKTX\n",
      "MA-MXIM\n",
      "MCHP-MSFT\n",
      "JWN-NOC\n",
      "PFG-PGR\n",
      "SLB-SRE\n",
      "TDG-TRV\n",
      "VLO-VAR\n"
     ]
    }
   ],
   "source": [
    "print('==1==')\n",
    "print('Q:מצאו 2-3 זוגות מניות שסווגו כזהות בבדיקה הראשונה ושונות בבדיקה השנייה.')\n",
    "print('A: ')\n",
    "clasp2=[]\n",
    "clasp3=[]\n",
    "for i in range (0,len(p3c1.to_list())-1):\n",
    "        a = p3c1.to_list()[i]+'-'+p3c1.to_list()[i+1]\n",
    "        clasp2.append(a)\n",
    "\n",
    "for i in range(0,len(p4c1.to_list())-1):\n",
    "    for j in range(0,len(p4c2.to_list())-1):\n",
    "        a = p4c1.to_list()[i]+'-'+p4c2.to_list()[j]\n",
    "        clasp3.append(a)\n",
    "\n",
    "for i in clasp2:\n",
    "    if i in clasp3:\n",
    "        print(i)"
   ]
  },
  {
   "cell_type": "markdown",
   "metadata": {},
   "source": [
    "# part5"
   ]
  },
  {
   "cell_type": "code",
   "execution_count": 83,
   "metadata": {},
   "outputs": [],
   "source": [
    "year19start = datetime(2019,1,1)\n",
    "year19end = datetime(2019,12,30)\n",
    "part5start_date = datetime(2019,5,1)\n",
    "part5end_date = datetime(2020,2,11)\n",
    "part5pred_sd = datetime(2020,2,11)\n",
    "part5pred_ed = datetime(2020,5,29)"
   ]
  },
  {
   "cell_type": "code",
   "execution_count": 84,
   "metadata": {},
   "outputs": [],
   "source": [
    "tickers = ['AMZN','AAPL','GOOG']"
   ]
  },
  {
   "cell_type": "code",
   "execution_count": 85,
   "metadata": {},
   "outputs": [
    {
     "name": "stdout",
     "output_type": "stream",
     "text": [
      "AMZN\n",
      "[*********************100%***********************]  1 of 1 completed\n",
      "AAPL\n",
      "[*********************100%***********************]  1 of 1 completed\n",
      "GOOG\n",
      "[*********************100%***********************]  1 of 1 completed\n"
     ]
    }
   ],
   "source": [
    "prices_list = []\n",
    "for ticker in tickers:\n",
    "    print(ticker)\n",
    "    prices = yf.download(ticker,year19start,year19end)['Adj Close']    \n",
    "    prices = pd.DataFrame(prices)\n",
    "    prices_list.append(prices)\n",
    "    prices_df = pd.concat(prices_list,axis=1)\n",
    "    "
   ]
  },
  {
   "cell_type": "code",
   "execution_count": 86,
   "metadata": {},
   "outputs": [
    {
     "data": {
      "text/html": [
       "<div>\n",
       "<style scoped>\n",
       "    .dataframe tbody tr th:only-of-type {\n",
       "        vertical-align: middle;\n",
       "    }\n",
       "\n",
       "    .dataframe tbody tr th {\n",
       "        vertical-align: top;\n",
       "    }\n",
       "\n",
       "    .dataframe thead th {\n",
       "        text-align: right;\n",
       "    }\n",
       "</style>\n",
       "<table border=\"1\" class=\"dataframe\">\n",
       "  <thead>\n",
       "    <tr style=\"text-align: right;\">\n",
       "      <th></th>\n",
       "      <th>AMZN</th>\n",
       "      <th>AAPL</th>\n",
       "      <th>GOOG</th>\n",
       "    </tr>\n",
       "    <tr>\n",
       "      <th>Date</th>\n",
       "      <th></th>\n",
       "      <th></th>\n",
       "      <th></th>\n",
       "    </tr>\n",
       "  </thead>\n",
       "  <tbody>\n",
       "    <tr>\n",
       "      <th>2018-12-31</th>\n",
       "      <td>1501.969971</td>\n",
       "      <td>154.340271</td>\n",
       "      <td>1035.609985</td>\n",
       "    </tr>\n",
       "    <tr>\n",
       "      <th>2019-01-02</th>\n",
       "      <td>1539.130005</td>\n",
       "      <td>154.516388</td>\n",
       "      <td>1045.849976</td>\n",
       "    </tr>\n",
       "    <tr>\n",
       "      <th>2019-01-03</th>\n",
       "      <td>1500.280029</td>\n",
       "      <td>139.125412</td>\n",
       "      <td>1016.059998</td>\n",
       "    </tr>\n",
       "    <tr>\n",
       "      <th>2019-01-04</th>\n",
       "      <td>1575.390015</td>\n",
       "      <td>145.064575</td>\n",
       "      <td>1070.709961</td>\n",
       "    </tr>\n",
       "    <tr>\n",
       "      <th>2019-01-07</th>\n",
       "      <td>1629.510010</td>\n",
       "      <td>144.741714</td>\n",
       "      <td>1068.390015</td>\n",
       "    </tr>\n",
       "    <tr>\n",
       "      <th>...</th>\n",
       "      <td>...</td>\n",
       "      <td>...</td>\n",
       "      <td>...</td>\n",
       "    </tr>\n",
       "    <tr>\n",
       "      <th>2019-12-20</th>\n",
       "      <td>1786.500000</td>\n",
       "      <td>277.525391</td>\n",
       "      <td>1349.589966</td>\n",
       "    </tr>\n",
       "    <tr>\n",
       "      <th>2019-12-23</th>\n",
       "      <td>1793.000000</td>\n",
       "      <td>282.054138</td>\n",
       "      <td>1348.839966</td>\n",
       "    </tr>\n",
       "    <tr>\n",
       "      <th>2019-12-24</th>\n",
       "      <td>1789.209961</td>\n",
       "      <td>282.322266</td>\n",
       "      <td>1343.560059</td>\n",
       "    </tr>\n",
       "    <tr>\n",
       "      <th>2019-12-26</th>\n",
       "      <td>1868.770020</td>\n",
       "      <td>287.923645</td>\n",
       "      <td>1360.400024</td>\n",
       "    </tr>\n",
       "    <tr>\n",
       "      <th>2019-12-27</th>\n",
       "      <td>1869.800049</td>\n",
       "      <td>287.814392</td>\n",
       "      <td>1351.890015</td>\n",
       "    </tr>\n",
       "  </tbody>\n",
       "</table>\n",
       "<p>251 rows × 3 columns</p>\n",
       "</div>"
      ],
      "text/plain": [
       "                   AMZN        AAPL         GOOG\n",
       "Date                                            \n",
       "2018-12-31  1501.969971  154.340271  1035.609985\n",
       "2019-01-02  1539.130005  154.516388  1045.849976\n",
       "2019-01-03  1500.280029  139.125412  1016.059998\n",
       "2019-01-04  1575.390015  145.064575  1070.709961\n",
       "2019-01-07  1629.510010  144.741714  1068.390015\n",
       "...                 ...         ...          ...\n",
       "2019-12-20  1786.500000  277.525391  1349.589966\n",
       "2019-12-23  1793.000000  282.054138  1348.839966\n",
       "2019-12-24  1789.209961  282.322266  1343.560059\n",
       "2019-12-26  1868.770020  287.923645  1360.400024\n",
       "2019-12-27  1869.800049  287.814392  1351.890015\n",
       "\n",
       "[251 rows x 3 columns]"
      ]
     },
     "execution_count": 86,
     "metadata": {},
     "output_type": "execute_result"
    }
   ],
   "source": [
    "prices_df.columns = tickers\n",
    "prices_df"
   ]
  },
  {
   "cell_type": "code",
   "execution_count": 87,
   "metadata": {},
   "outputs": [
    {
     "data": {
      "image/png": "[encoded data removed]",
      "text/plain": [
       "<Figure size 432x288 with 1 Axes>"
      ]
     },
     "metadata": {},
     "output_type": "display_data"
    }
   ],
   "source": [
    "plt.title('Amazon - 2019')\n",
    "plt.plot(prices_df.index,prices_df[tickers[0]], label = 'AMZN')\n",
    "plt.legend()\n",
    "plt.show()"
   ]
  },
  {
   "cell_type": "code",
   "execution_count": 88,
   "metadata": {},
   "outputs": [
    {
     "data": {
      "image/png": "[encoded data removed]",
      "text/plain": [
       "<Figure size 432x288 with 1 Axes>"
      ]
     },
     "metadata": {},
     "output_type": "display_data"
    }
   ],
   "source": [
    "plt.title('Apple - 2019')\n",
    "plt.plot(prices_df.index,prices_df[tickers[1]], label = 'AAPL')\n",
    "plt.legend()\n",
    "plt.show()"
   ]
  },
  {
   "cell_type": "code",
   "execution_count": 89,
   "metadata": {},
   "outputs": [
    {
     "data": {
      "image/png": "[encoded data removed]",
      "text/plain": [
       "<Figure size 432x288 with 1 Axes>"
      ]
     },
     "metadata": {},
     "output_type": "display_data"
    }
   ],
   "source": [
    "plt.title('Google - 2019')\n",
    "plt.plot(prices_df.index,prices_df[tickers[2]], label = 'GOOG')\n",
    "plt.legend()\n",
    "plt.show()"
   ]
  },
  {
   "cell_type": "code",
   "execution_count": 90,
   "metadata": {},
   "outputs": [
    {
     "name": "stdout",
     "output_type": "stream",
     "text": [
      "==1==\n",
      "Q:מה אתם יכולים להגיד על התנהגות המניות?\n",
      "A:ניתן לראות כי במהלך 2019 שלושת המניות היו במגמת עליה, ומניית אפל אפילו הכפילה את השווי שלה \n"
     ]
    }
   ],
   "source": [
    "print('==1==')\n",
    "print('Q:מה אתם יכולים להגיד על התנהגות המניות?')\n",
    "print('A:ניתן לראות כי במהלך 2019 שלושת המניות היו במגמת עליה, ומניית אפל אפילו הכפילה את השווי שלה ')"
   ]
  },
  {
   "cell_type": "code",
   "execution_count": 91,
   "metadata": {},
   "outputs": [
    {
     "name": "stdout",
     "output_type": "stream",
     "text": [
      "AMZN\n",
      "[*********************100%***********************]  1 of 1 completed\n",
      "AAPL\n",
      "[*********************100%***********************]  1 of 1 completed\n",
      "GOOG\n",
      "[*********************100%***********************]  1 of 1 completed\n"
     ]
    }
   ],
   "source": [
    "prices_list_train = []\n",
    "for ticker in tickers:\n",
    "    print(ticker)\n",
    "    pricestrain = yf.download(ticker,part5start_date,part5end_date)['Adj Close']\n",
    "    pricestrain = pd.DataFrame(pricestrain)\n",
    "    prices_list_train.append(pricestrain)\n",
    "    prices_df_train = pd.concat(prices_list_train,axis=1)"
   ]
  },
  {
   "cell_type": "code",
   "execution_count": 92,
   "metadata": {},
   "outputs": [
    {
     "data": {
      "text/html": [
       "<div>\n",
       "<style scoped>\n",
       "    .dataframe tbody tr th:only-of-type {\n",
       "        vertical-align: middle;\n",
       "    }\n",
       "\n",
       "    .dataframe tbody tr th {\n",
       "        vertical-align: top;\n",
       "    }\n",
       "\n",
       "    .dataframe thead th {\n",
       "        text-align: right;\n",
       "    }\n",
       "</style>\n",
       "<table border=\"1\" class=\"dataframe\">\n",
       "  <thead>\n",
       "    <tr style=\"text-align: right;\">\n",
       "      <th></th>\n",
       "      <th>AMZN</th>\n",
       "      <th>AAPL</th>\n",
       "      <th>GOOG</th>\n",
       "    </tr>\n",
       "    <tr>\n",
       "      <th>Date</th>\n",
       "      <th></th>\n",
       "      <th></th>\n",
       "      <th></th>\n",
       "    </tr>\n",
       "  </thead>\n",
       "  <tbody>\n",
       "    <tr>\n",
       "      <th>2019-04-30</th>\n",
       "      <td>1926.520020</td>\n",
       "      <td>197.187088</td>\n",
       "      <td>1188.479980</td>\n",
       "    </tr>\n",
       "    <tr>\n",
       "      <th>2019-05-01</th>\n",
       "      <td>1911.520020</td>\n",
       "      <td>206.866135</td>\n",
       "      <td>1168.079956</td>\n",
       "    </tr>\n",
       "    <tr>\n",
       "      <th>2019-05-02</th>\n",
       "      <td>1900.819946</td>\n",
       "      <td>205.519897</td>\n",
       "      <td>1162.609985</td>\n",
       "    </tr>\n",
       "    <tr>\n",
       "      <th>2019-05-03</th>\n",
       "      <td>1962.459961</td>\n",
       "      <td>208.074783</td>\n",
       "      <td>1185.400024</td>\n",
       "    </tr>\n",
       "    <tr>\n",
       "      <th>2019-05-06</th>\n",
       "      <td>1950.550049</td>\n",
       "      <td>204.861542</td>\n",
       "      <td>1189.390015</td>\n",
       "    </tr>\n",
       "    <tr>\n",
       "      <th>...</th>\n",
       "      <td>...</td>\n",
       "      <td>...</td>\n",
       "      <td>...</td>\n",
       "    </tr>\n",
       "    <tr>\n",
       "      <th>2020-02-04</th>\n",
       "      <td>2049.669922</td>\n",
       "      <td>316.665344</td>\n",
       "      <td>1447.069946</td>\n",
       "    </tr>\n",
       "    <tr>\n",
       "      <th>2020-02-05</th>\n",
       "      <td>2039.869995</td>\n",
       "      <td>319.247589</td>\n",
       "      <td>1448.229980</td>\n",
       "    </tr>\n",
       "    <tr>\n",
       "      <th>2020-02-06</th>\n",
       "      <td>2050.229980</td>\n",
       "      <td>322.981781</td>\n",
       "      <td>1476.229980</td>\n",
       "    </tr>\n",
       "    <tr>\n",
       "      <th>2020-02-07</th>\n",
       "      <td>2079.280029</td>\n",
       "      <td>318.591583</td>\n",
       "      <td>1479.229980</td>\n",
       "    </tr>\n",
       "    <tr>\n",
       "      <th>2020-02-10</th>\n",
       "      <td>2133.909912</td>\n",
       "      <td>320.104767</td>\n",
       "      <td>1508.680054</td>\n",
       "    </tr>\n",
       "  </tbody>\n",
       "</table>\n",
       "<p>198 rows × 3 columns</p>\n",
       "</div>"
      ],
      "text/plain": [
       "                   AMZN        AAPL         GOOG\n",
       "Date                                            \n",
       "2019-04-30  1926.520020  197.187088  1188.479980\n",
       "2019-05-01  1911.520020  206.866135  1168.079956\n",
       "2019-05-02  1900.819946  205.519897  1162.609985\n",
       "2019-05-03  1962.459961  208.074783  1185.400024\n",
       "2019-05-06  1950.550049  204.861542  1189.390015\n",
       "...                 ...         ...          ...\n",
       "2020-02-04  2049.669922  316.665344  1447.069946\n",
       "2020-02-05  2039.869995  319.247589  1448.229980\n",
       "2020-02-06  2050.229980  322.981781  1476.229980\n",
       "2020-02-07  2079.280029  318.591583  1479.229980\n",
       "2020-02-10  2133.909912  320.104767  1508.680054\n",
       "\n",
       "[198 rows x 3 columns]"
      ]
     },
     "execution_count": 92,
     "metadata": {},
     "output_type": "execute_result"
    }
   ],
   "source": [
    "prices_df_train.columns = tickers\n",
    "prices_df_train"
   ]
  },
  {
   "cell_type": "code",
   "execution_count": 93,
   "metadata": {},
   "outputs": [],
   "source": [
    "from statsmodels.tsa.arima_model import ARIMA\n",
    "from sklearn.metrics import mean_squared_error"
   ]
  },
  {
   "cell_type": "code",
   "execution_count": 94,
   "metadata": {},
   "outputs": [
    {
     "name": "stdout",
     "output_type": "stream",
     "text": [
      "AMZN\n",
      "[*********************100%***********************]  1 of 1 completed\n",
      "AAPL\n",
      "[*********************100%***********************]  1 of 1 completed\n",
      "GOOG\n",
      "[*********************100%***********************]  1 of 1 completed\n"
     ]
    },
    {
     "data": {
      "text/html": [
       "<div>\n",
       "<style scoped>\n",
       "    .dataframe tbody tr th:only-of-type {\n",
       "        vertical-align: middle;\n",
       "    }\n",
       "\n",
       "    .dataframe tbody tr th {\n",
       "        vertical-align: top;\n",
       "    }\n",
       "\n",
       "    .dataframe thead th {\n",
       "        text-align: right;\n",
       "    }\n",
       "</style>\n",
       "<table border=\"1\" class=\"dataframe\">\n",
       "  <thead>\n",
       "    <tr style=\"text-align: right;\">\n",
       "      <th></th>\n",
       "      <th>AMZN</th>\n",
       "      <th>AAPL</th>\n",
       "      <th>GOOG</th>\n",
       "    </tr>\n",
       "    <tr>\n",
       "      <th>Date</th>\n",
       "      <th></th>\n",
       "      <th></th>\n",
       "      <th></th>\n",
       "    </tr>\n",
       "  </thead>\n",
       "  <tbody>\n",
       "    <tr>\n",
       "      <th>2020-02-10</th>\n",
       "      <td>2133.909912</td>\n",
       "      <td>320.104767</td>\n",
       "      <td>1508.680054</td>\n",
       "    </tr>\n",
       "    <tr>\n",
       "      <th>2020-02-11</th>\n",
       "      <td>2150.800049</td>\n",
       "      <td>318.173462</td>\n",
       "      <td>1508.790039</td>\n",
       "    </tr>\n",
       "    <tr>\n",
       "      <th>2020-02-12</th>\n",
       "      <td>2160.000000</td>\n",
       "      <td>325.729401</td>\n",
       "      <td>1518.270020</td>\n",
       "    </tr>\n",
       "    <tr>\n",
       "      <th>2020-02-13</th>\n",
       "      <td>2149.870117</td>\n",
       "      <td>323.409851</td>\n",
       "      <td>1514.660034</td>\n",
       "    </tr>\n",
       "    <tr>\n",
       "      <th>2020-02-14</th>\n",
       "      <td>2134.870117</td>\n",
       "      <td>323.489502</td>\n",
       "      <td>1520.739990</td>\n",
       "    </tr>\n",
       "    <tr>\n",
       "      <th>...</th>\n",
       "      <td>...</td>\n",
       "      <td>...</td>\n",
       "      <td>...</td>\n",
       "    </tr>\n",
       "    <tr>\n",
       "      <th>2020-05-21</th>\n",
       "      <td>2446.739990</td>\n",
       "      <td>316.279755</td>\n",
       "      <td>1402.800049</td>\n",
       "    </tr>\n",
       "    <tr>\n",
       "      <th>2020-05-22</th>\n",
       "      <td>2436.879883</td>\n",
       "      <td>318.316101</td>\n",
       "      <td>1410.420044</td>\n",
       "    </tr>\n",
       "    <tr>\n",
       "      <th>2020-05-26</th>\n",
       "      <td>2421.860107</td>\n",
       "      <td>316.159973</td>\n",
       "      <td>1417.020020</td>\n",
       "    </tr>\n",
       "    <tr>\n",
       "      <th>2020-05-27</th>\n",
       "      <td>2410.389893</td>\n",
       "      <td>317.537476</td>\n",
       "      <td>1417.839966</td>\n",
       "    </tr>\n",
       "    <tr>\n",
       "      <th>2020-05-28</th>\n",
       "      <td>2401.100098</td>\n",
       "      <td>317.677216</td>\n",
       "      <td>1416.729980</td>\n",
       "    </tr>\n",
       "  </tbody>\n",
       "</table>\n",
       "<p>76 rows × 3 columns</p>\n",
       "</div>"
      ],
      "text/plain": [
       "                   AMZN        AAPL         GOOG\n",
       "Date                                            \n",
       "2020-02-10  2133.909912  320.104767  1508.680054\n",
       "2020-02-11  2150.800049  318.173462  1508.790039\n",
       "2020-02-12  2160.000000  325.729401  1518.270020\n",
       "2020-02-13  2149.870117  323.409851  1514.660034\n",
       "2020-02-14  2134.870117  323.489502  1520.739990\n",
       "...                 ...         ...          ...\n",
       "2020-05-21  2446.739990  316.279755  1402.800049\n",
       "2020-05-22  2436.879883  318.316101  1410.420044\n",
       "2020-05-26  2421.860107  316.159973  1417.020020\n",
       "2020-05-27  2410.389893  317.537476  1417.839966\n",
       "2020-05-28  2401.100098  317.677216  1416.729980\n",
       "\n",
       "[76 rows x 3 columns]"
      ]
     },
     "execution_count": 94,
     "metadata": {},
     "output_type": "execute_result"
    }
   ],
   "source": [
    "prices_list_test = []\n",
    "for ticker in tickers:\n",
    "    print(ticker)\n",
    "    pricestest = yf.download(ticker,part5pred_sd,part5pred_ed)['Adj Close']\n",
    "    pricestest = pd.DataFrame(pricestest)\n",
    "    prices_list_test.append(pricestest)\n",
    "    prices_df_test = pd.concat(prices_list_test,axis=1)\n",
    "prices_df_test.columns = tickers\n",
    "prices_df_test"
   ]
  },
  {
   "cell_type": "code",
   "execution_count": 95,
   "metadata": {},
   "outputs": [],
   "source": [
    "ARIMAp=4\n",
    "ARIMAd=1\n",
    "ARIMAq=0"
   ]
  },
  {
   "cell_type": "markdown",
   "metadata": {},
   "source": [
    "# AMZN"
   ]
  },
  {
   "cell_type": "code",
   "execution_count": 96,
   "metadata": {},
   "outputs": [
    {
     "data": {
      "image/png": "[encoded data removed]",
      "text/plain": [
       "<Figure size 720x360 with 1 Axes>"
      ]
     },
     "metadata": {},
     "output_type": "display_data"
    }
   ],
   "source": [
    "plt.figure(figsize=(10,5))\n",
    "plt.title('Amazon')\n",
    "plt.plot(prices_df_train.index,prices_df_train['AMZN'], label = 'AMZN - Train',c='b')\n",
    "plt.plot(prices_df_test.index,prices_df_test['AMZN'], label = 'AMZN - Test',c='g')\n",
    "plt.legend()\n",
    "plt.show()"
   ]
  },
  {
   "cell_type": "code",
   "execution_count": 97,
   "metadata": {},
   "outputs": [
    {
     "name": "stdout",
     "output_type": "stream",
     "text": [
      "AMZN Testing MSE: 3615.4249915855617\n"
     ]
    }
   ],
   "source": [
    "training_data = prices_df_train['AMZN'].values\n",
    "test_data = prices_df_test['AMZN'].values\n",
    "\n",
    "history = [x for x in training_data]\n",
    "model_predictions = []\n",
    "N_test_observations = len(test_data)\n",
    "\n",
    "for time_point in range(N_test_observations):\n",
    "    model = ARIMA(history, order=(ARIMAp,ARIMAd,ARIMAq))\n",
    "    model_fit = model.fit(disp=0)\n",
    "    output = model_fit.forecast()\n",
    "    model_predictions.append(output[0])\n",
    "    true_test_value = test_data[time_point]\n",
    "    history.append(true_test_value)\n",
    "    \n",
    "MSE_error = mean_squared_error(test_data, model_predictions)\n",
    "print('AMZN Testing MSE:',MSE_error)"
   ]
  },
  {
   "cell_type": "code",
   "execution_count": 98,
   "metadata": {},
   "outputs": [
    {
     "data": {
      "image/png": "[encoded data removed]",
      "text/plain": [
       "<Figure size 720x360 with 1 Axes>"
      ]
     },
     "metadata": {},
     "output_type": "display_data"
    }
   ],
   "source": [
    "plt.figure(figsize=(10,5))\n",
    "plt.title('Amazon')\n",
    "plt.plot(prices_df_train.index,prices_df_train['AMZN'],color='black',alpha=0.3, label = 'AMZN ')\n",
    "plt.plot(prices_df_test.index, model_predictions, color='blue',alpha=0.3, label = 'AMZN - Predict')\n",
    "plt.legend()\n",
    "plt.show()"
   ]
  },
  {
   "cell_type": "markdown",
   "metadata": {},
   "source": [
    "# AAPL"
   ]
  },
  {
   "cell_type": "code",
   "execution_count": 99,
   "metadata": {},
   "outputs": [
    {
     "data": {
      "image/png": "[encoded data removed]",
      "text/plain": [
       "<Figure size 720x360 with 1 Axes>"
      ]
     },
     "metadata": {},
     "output_type": "display_data"
    }
   ],
   "source": [
    "plt.figure(figsize=(10,5))\n",
    "plt.title('Apple')\n",
    "plt.plot(prices_df_train.index,prices_df_train['AAPL'], label = 'AAPL - Train',c='b')\n",
    "plt.plot(prices_df_test.index,prices_df_test['AAPL'], label = 'AAPL - Test',c='g')\n",
    "plt.legend()\n",
    "plt.show()"
   ]
  },
  {
   "cell_type": "code",
   "execution_count": 100,
   "metadata": {},
   "outputs": [
    {
     "name": "stdout",
     "output_type": "stream",
     "text": [
      "AAPL Testing MSE: 117.97960255229141\n"
     ]
    }
   ],
   "source": [
    "training_data = prices_df_train['AAPL'].values\n",
    "test_data = prices_df_test['AAPL'].values\n",
    "\n",
    "history = [x for x in training_data]\n",
    "model_predictions = []\n",
    "N_test_observations = len(test_data)\n",
    "\n",
    "for time_point in range(N_test_observations):\n",
    "    model = ARIMA(history, order=(ARIMAp,ARIMAd,ARIMAq))\n",
    "    model_fit = model.fit(disp=0)\n",
    "    output = model_fit.forecast()\n",
    "    model_predictions.append(output[0])\n",
    "    true_test_value = test_data[time_point]\n",
    "    history.append(true_test_value)\n",
    "    \n",
    "MSE_error = mean_squared_error(test_data, model_predictions)\n",
    "print('AAPL Testing MSE:',MSE_error)"
   ]
  },
  {
   "cell_type": "code",
   "execution_count": 101,
   "metadata": {},
   "outputs": [
    {
     "data": {
      "image/png": "[encoded data removed]",
      "text/plain": [
       "<Figure size 720x360 with 1 Axes>"
      ]
     },
     "metadata": {},
     "output_type": "display_data"
    }
   ],
   "source": [
    "plt.figure(figsize=(10,5))\n",
    "plt.title('Apple')\n",
    "plt.plot(prices_df_train.index,prices_df_train['AAPL'],color='black',alpha=0.3, label = 'AAPL')\n",
    "plt.plot(prices_df_test.index, model_predictions, color='blue',alpha=0.3, label = 'AAPL - Predict')\n",
    "plt.legend()\n",
    "plt.show()"
   ]
  },
  {
   "cell_type": "markdown",
   "metadata": {},
   "source": [
    "## GOOG"
   ]
  },
  {
   "cell_type": "code",
   "execution_count": 102,
   "metadata": {},
   "outputs": [
    {
     "data": {
      "image/png": "[encoded data removed]",
      "text/plain": [
       "<Figure size 720x360 with 1 Axes>"
      ]
     },
     "metadata": {},
     "output_type": "display_data"
    }
   ],
   "source": [
    "plt.figure(figsize=(10,5))\n",
    "plt.title('Google')\n",
    "plt.plot(prices_df_train.index,prices_df_train['GOOG'], label = 'GOOG - Train',c='b')\n",
    "plt.plot(prices_df_test.index,prices_df_test['GOOG'], label = 'GOOG - Test',c='g')\n",
    "plt.legend()\n",
    "plt.show()"
   ]
  },
  {
   "cell_type": "code",
   "execution_count": 103,
   "metadata": {},
   "outputs": [
    {
     "name": "stdout",
     "output_type": "stream",
     "text": [
      "GOOG Testing MSE: 1765.9058531310814\n"
     ]
    }
   ],
   "source": [
    "training_data = prices_df_train['GOOG'].values\n",
    "test_data = prices_df_test['GOOG'].values\n",
    "\n",
    "history = [x for x in training_data]\n",
    "model_predictions = []\n",
    "N_test_observations = len(test_data)\n",
    "\n",
    "for time_point in range(N_test_observations):\n",
    "    model = ARIMA(history, order=(ARIMAp,ARIMAd,ARIMAq))\n",
    "    model_fit = model.fit(disp=0)\n",
    "    output = model_fit.forecast()\n",
    "    model_predictions.append(output[0])\n",
    "    true_test_value = test_data[time_point]\n",
    "    history.append(true_test_value)\n",
    "    \n",
    "MSE_error = mean_squared_error(test_data, model_predictions)\n",
    "print('GOOG Testing MSE:',MSE_error)"
   ]
  },
  {
   "cell_type": "code",
   "execution_count": 104,
   "metadata": {},
   "outputs": [
    {
     "data": {
      "image/png": "[encoded data removed]",
      "text/plain": [
       "<Figure size 720x360 with 1 Axes>"
      ]
     },
     "metadata": {},
     "output_type": "display_data"
    }
   ],
   "source": [
    "plt.figure(figsize=(10,5))\n",
    "plt.title('Google')\n",
    "plt.plot(prices_df_train.index,prices_df_train['GOOG'],color='black',alpha=0.3, label = 'GOOG')\n",
    "plt.plot(prices_df_test.index, model_predictions, color='blue',alpha=0.3, label = 'GOOG - Predict')\n",
    "plt.legend()\n",
    "plt.show()"
   ]
  },
  {
   "cell_type": "code",
   "execution_count": 105,
   "metadata": {},
   "outputs": [],
   "source": [
    "#ANSWERS"
   ]
  },
  {
   "cell_type": "code",
   "execution_count": 106,
   "metadata": {},
   "outputs": [
    {
     "name": "stdout",
     "output_type": "stream",
     "text": [
      "==1==\n",
      "Q: האם המודל שלכם היה מדויק?\n",
      "A: המודל היה די מדויק, מאוד קרוב למציאות\n",
      "==2==\n",
      "Q: מה המשמעות של MSE?\n",
      "A: זוהי הטעות הריבועית הממוצעת, כלומר ממוצע ריבועי הטעויות - במקרה שלנו ההבדל בין המחיר האמיתי למחיר שהמודל חזה\n",
      "==3==\n",
      "Q: מהם ערכי P D Q ואיך קבעתם מה הערכים הכי טובים עבור המודל שלכם\n",
      "A: אלו ערכים לפיהם המודל לוקח מספר תצפיות, מידת ההבדל וגודל הממוצע הנע\n",
      "את הערכים קבענו לפי\n",
      "==4==\n",
      "Q: האם לדעתכם המניות שסווגו לפני המשבר כדומות יסווגו דומות גם אחריו?\n",
      "A: לדעתנו כן, רוב המניות שסווגו דומות ישארו בסיווג זהה\n"
     ]
    }
   ],
   "source": [
    "print('==1==')\n",
    "print('Q: האם המודל שלכם היה מדויק?')\n",
    "print('A: המודל היה די מדויק, מאוד קרוב למציאות')\n",
    "print('==2==')\n",
    "print('Q: מה המשמעות של MSE?')\n",
    "print('A: זוהי הטעות הריבועית הממוצעת, כלומר ממוצע ריבועי הטעויות - במקרה שלנו ההבדל בין המחיר האמיתי למחיר שהמודל חזה')\n",
    "print('==3==')\n",
    "print('Q: מהם ערכי P D Q ואיך קבעתם מה הערכים הכי טובים עבור המודל שלכם')\n",
    "print('A: אלו ערכים לפיהם המודל לוקח מספר תצפיות, מידת ההבדל וגודל הממוצע הנע\\nאת הערכים קבענו לפי')\n",
    "print('==4==')\n",
    "print('Q: האם לדעתכם המניות שסווגו לפני המשבר כדומות יסווגו דומות גם אחריו?')\n",
    "print('A: לדעתנו כן, רוב המניות שסווגו דומות ישארו בסיווג זהה')"
   ]
  },
  {
   "cell_type": "code",
   "execution_count": null,
   "metadata": {},
   "outputs": [],
   "source": []
  }
 ],
 "metadata": {
  "kernelspec": {
   "display_name": "Python 3",
   "language": "python",
   "name": "python3"
  },
  "language_info": {
   "codemirror_mode": {
    "name": "ipython",
    "version": 3
   },
   "file_extension": ".py",
   "mimetype": "text/x-python",
   "name": "python",
   "nbconvert_exporter": "python",
   "pygments_lexer": "ipython3",
   "version": "3.7.4"
  }
 },
 "nbformat": 4,
 "nbformat_minor": 2
}
